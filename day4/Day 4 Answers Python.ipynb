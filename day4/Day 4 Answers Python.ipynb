{
 "cells": [
  {
   "cell_type": "markdown",
   "id": "4df9d181-906e-42d2-928f-88b1333e8518",
   "metadata": {},
   "source": [
    "# Import statement - from Import & from Import*"
   ]
  },
  {
   "cell_type": "code",
   "execution_count": null,
   "id": "f0f5a834-4a2c-49c4-a43c-1d951f5b9cdb",
   "metadata": {},
   "outputs": [],
   "source": [
    "# Ans 1\n",
    "\n",
    "import Module_Imp2\n",
    "\n",
    "a = int(input(\"a: \"))\n",
    "b = int(input(\"b: \"))\n",
    "\n",
    "Module_Imp2.arithoperations(a,b)"
   ]
  },
  {
   "cell_type": "code",
   "execution_count": null,
   "id": "490d3491-f2ac-44ad-a97d-a7e6433de75a",
   "metadata": {},
   "outputs": [],
   "source": [
    "# Ans 2\n",
    "\n",
    "import Module_Imp1 as mi1\n",
    "import Module_Imp2 as mi2\n",
    "\n",
    "num1 = int(input(\"num1: \"))\n",
    "num2 = int(input(\"num2: \"))\n",
    "\n",
    "mi1.checkNegativeNumber(num1)\n",
    "mi1.checkNegativeNumber(num2)\n",
    "mi2.arithoperations(num1, num2)"
   ]
  },
  {
   "cell_type": "code",
   "execution_count": 2,
   "id": "2cc9de68-0303-4420-ba05-f078bdeb57f9",
   "metadata": {},
   "outputs": [],
   "source": [
    "# Ans 3\n",
    "\n"
   ]
  },
  {
   "cell_type": "code",
   "execution_count": null,
   "id": "0588378e-e55d-4b0c-b0a1-de2ccbc05020",
   "metadata": {},
   "outputs": [],
   "source": [
    "# Ans 4\n",
    "\n",
    "import CheckNegative\n",
    "\n",
    "# Write your code here\n",
    "# Call the method from module checkNegative\n",
    "\n",
    "x = int(input(\"x: \"))\n",
    "CheckNegative.CheckNegativeNumber(x)"
   ]
  },
  {
   "cell_type": "code",
   "execution_count": null,
   "id": "fe0663d6-1063-446c-8157-f87a4d75c8e8",
   "metadata": {},
   "outputs": [],
   "source": [
    "# Ans 5\n",
    "\n",
    "import Module_Imp2 as mi\n",
    "\n",
    "a = int(input(\"a: \"))\n",
    "b = int(input(\"b: \"))\n",
    "mi.arithoperations(a,b)"
   ]
  },
  {
   "cell_type": "code",
   "execution_count": null,
   "id": "91dd3851-ab1d-4707-a839-2ef2fe818b02",
   "metadata": {},
   "outputs": [],
   "source": [
    "# Ans 6\n",
    "\n",
    "from Module_Imp3 import pivalue, shapes\n",
    "\n",
    "pivalue()\n",
    "\n",
    "n = int(input(\"n: \"))\n",
    "\n",
    "print(shapes[1:n])"
   ]
  },
  {
   "cell_type": "code",
   "execution_count": null,
   "id": "0b2af27b-8699-4239-8556-311327392431",
   "metadata": {},
   "outputs": [],
   "source": [
    "# Ans 7\n",
    "\n",
    "from Module_Imp3 import *\n",
    "\n",
    "\n",
    "side = int(input(\"side: \"))\n",
    "calculatearea(side,side)\n",
    "pivalue()\n",
    "x = []\n",
    "x.append(shapes[2])\n",
    "print(x)"
   ]
  },
  {
   "cell_type": "code",
   "execution_count": 3,
   "id": "923a7132-4ee6-4262-a521-04bec58b1fcb",
   "metadata": {},
   "outputs": [],
   "source": [
    "# Ans 8\n",
    "\n",
    "from Module_Imp3 import calculatearea,calculatediameter\n",
    "\n",
    "#Write your code here\n",
    "side = int(input(\"side: \"))\n",
    "calculatediameter(side)\n",
    "calculatearea(side,side)"
   ]
  },
  {
   "cell_type": "code",
   "execution_count": null,
   "id": "55f03357-360d-49d7-84e0-089fb9bc3f0f",
   "metadata": {},
   "outputs": [],
   "source": [
    "# Ans 9\n",
    "\n",
    "from Module_Imp3 import *\n",
    "\n",
    "side = int(input(\"side: \"))\n",
    "calculatearea(side,side)\n",
    "calculatediameter(side)"
   ]
  },
  {
   "cell_type": "code",
   "execution_count": null,
   "id": "d7ba1118-33db-4ade-ad90-a422997b32f7",
   "metadata": {},
   "outputs": [],
   "source": [
    "# Ans 10\n",
    "\n",
    "from Module_Imp3 import *\n",
    "side = int(input(\"side: \"))\n",
    "calculatearea(side,side)\n",
    "calculatediameter(side)\n",
    "pivalue()\n",
    "print(shapes[1:2])"
   ]
  },
  {
   "cell_type": "markdown",
   "id": "2b8168f7-b4e9-41cc-ac5f-5f71a201207e",
   "metadata": {},
   "source": [
    "# Executing modules as scripts & Locating"
   ]
  },
  {
   "cell_type": "code",
   "execution_count": null,
   "id": "38ff926f-61d0-46b1-b7ea-9b426df7a4e7",
   "metadata": {},
   "outputs": [],
   "source": [
    "# Ans 1\n",
    "\n"
   ]
  },
  {
   "cell_type": "code",
   "execution_count": null,
   "id": "e55c6752-269f-4aba-8f54-802294fb9ddf",
   "metadata": {},
   "outputs": [],
   "source": [
    "# Ans 2\n",
    "\n"
   ]
  },
  {
   "cell_type": "markdown",
   "id": "37f8938e-ee83-4d3c-8eb9-5409e81c83b8",
   "metadata": {},
   "source": [
    "# Namespace and scoping"
   ]
  },
  {
   "cell_type": "code",
   "execution_count": null,
   "id": "6aa47e6d-0936-4b65-aee5-d7973307f177",
   "metadata": {},
   "outputs": [],
   "source": [
    "# Ans 1\n",
    "\n"
   ]
  },
  {
   "cell_type": "code",
   "execution_count": null,
   "id": "44aecc05-77f5-4bf5-88b7-472ff1f9324c",
   "metadata": {},
   "outputs": [],
   "source": [
    "# Ans 2\n",
    "\n"
   ]
  },
  {
   "cell_type": "code",
   "execution_count": null,
   "id": "1aa37ba4-300f-4b52-a0e5-5377219c14fd",
   "metadata": {},
   "outputs": [],
   "source": [
    "# Ans 3\n",
    "\n"
   ]
  },
  {
   "cell_type": "code",
   "execution_count": null,
   "id": "f2d95fc1-48de-418d-abac-6e26bafe04be",
   "metadata": {},
   "outputs": [],
   "source": [
    "# Ans 4\n",
    "\n"
   ]
  },
  {
   "cell_type": "markdown",
   "id": "f817216b-f94c-46ad-a1b1-e42b7d8b3cbb",
   "metadata": {},
   "source": [
    "# Dir(), getcwd(), setcwd() functions"
   ]
  },
  {
   "cell_type": "code",
   "execution_count": null,
   "id": "e40f01f2-5d2e-4bcc-88c8-0333ffce1bac",
   "metadata": {},
   "outputs": [],
   "source": [
    "# Ans 1\n",
    "\n"
   ]
  },
  {
   "cell_type": "code",
   "execution_count": null,
   "id": "2d485286-3f32-4bb7-b559-fe61ca19a554",
   "metadata": {},
   "outputs": [],
   "source": [
    "# Ans 2\n",
    "\n"
   ]
  },
  {
   "cell_type": "markdown",
   "id": "8b071a85-932b-4318-b53e-76091249f5d9",
   "metadata": {},
   "source": [
    "# File I/O - Operations"
   ]
  },
  {
   "cell_type": "code",
   "execution_count": null,
   "id": "004b4073-c5d1-4b6e-bab9-3b5b59c6ff2b",
   "metadata": {},
   "outputs": [],
   "source": []
  },
  {
   "cell_type": "code",
   "execution_count": null,
   "id": "3e6fc8bd-6df1-4a7f-95bd-43a18bca0215",
   "metadata": {},
   "outputs": [],
   "source": []
  },
  {
   "cell_type": "code",
   "execution_count": null,
   "id": "185a20a6-055f-4fc1-bba0-bb97103de7aa",
   "metadata": {},
   "outputs": [],
   "source": []
  },
  {
   "cell_type": "code",
   "execution_count": null,
   "id": "12c7a016-9e55-4a9c-b249-ecd9e82c6d95",
   "metadata": {},
   "outputs": [],
   "source": []
  },
  {
   "cell_type": "code",
   "execution_count": null,
   "id": "a74c5f40-db54-47ca-bb07-54aedf01291d",
   "metadata": {},
   "outputs": [],
   "source": []
  }
 ],
 "metadata": {
  "kernelspec": {
   "display_name": "Python 3 (ipykernel)",
   "language": "python",
   "name": "python3"
  },
  "language_info": {
   "codemirror_mode": {
    "name": "ipython",
    "version": 3
   },
   "file_extension": ".py",
   "mimetype": "text/x-python",
   "name": "python",
   "nbconvert_exporter": "python",
   "pygments_lexer": "ipython3",
   "version": "3.11.1"
  }
 },
 "nbformat": 4,
 "nbformat_minor": 5
}
