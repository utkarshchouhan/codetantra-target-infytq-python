{
 "cells": [
  {
   "cell_type": "markdown",
   "id": "742bcd7e-4a0a-46c7-a39c-430e1436e50b",
   "metadata": {},
   "source": [
    "# Introduction Need For OOP"
   ]
  },
  {
   "cell_type": "markdown",
   "id": "63f9446b-4f49-4f0e-9fcd-b43a71f70cb8",
   "metadata": {},
   "source": [
    "### Ans 1\n",
    "\n",
    "Object-oriented programming was first introduced at MIT in 1950’s.\n",
    "\n",
    "In 1990, James Gosling of Sun Micro Systems developed a simple version of C++ called Java ."
   ]
  },
  {
   "cell_type": "markdown",
   "id": "0c74e179-ae21-4f55-ab54-3fab279cb9fd",
   "metadata": {},
   "source": [
    "### Ans 2\n",
    "\n",
    "A programming paradigm informs how problems are analysed and solved in a programming language.\n",
    "\n",
    "Large systems developed using procedural programming language can be difficult to maintain."
   ]
  },
  {
   "cell_type": "markdown",
   "id": "5fae27d3-142b-4862-86f7-9870749078a5",
   "metadata": {},
   "source": [
    "### Ans 3\n",
    "\n",
    "Objects are instances of classes.\n",
    "\n",
    "A class is like the blueprint or design of which, instances are made.\n",
    "\n",
    "A class contains both attributes and methods."
   ]
  },
  {
   "cell_type": "markdown",
   "id": "718b22d2-0435-49c8-b3e2-b106deeeee51",
   "metadata": {},
   "source": [
    "### Ans 4\n",
    "\n",
    "A class is a combination of data and its associated meaningful functions.\n",
    "\n",
    "Object based programming implements information hiding and abstraction."
   ]
  },
  {
   "cell_type": "markdown",
   "id": "7b1f635a-38f8-4f8b-b207-75fee650d6b0",
   "metadata": {},
   "source": [
    "### Ans 5\n",
    "\n",
    "A class is a combination of data members and member functions.\n",
    "\n",
    "An object is an instance of a class.\n",
    "    \n",
    "Data in an object captures the characteristics (or attributes) of that object.\n",
    "\n",
    "Methods of an object captures the behaviour of the real world object."
   ]
  },
  {
   "cell_type": "code",
   "execution_count": null,
   "id": "02bd9c64-c373-4bbe-8aa7-8a0073c5b16c",
   "metadata": {},
   "outputs": [],
   "source": []
  }
 ],
 "metadata": {
  "kernelspec": {
   "display_name": "Python 3 (ipykernel)",
   "language": "python",
   "name": "python3"
  },
  "language_info": {
   "codemirror_mode": {
    "name": "ipython",
    "version": 3
   },
   "file_extension": ".py",
   "mimetype": "text/x-python",
   "name": "python",
   "nbconvert_exporter": "python",
   "pygments_lexer": "ipython3",
   "version": "3.11.1"
  }
 },
 "nbformat": 4,
 "nbformat_minor": 5
}
