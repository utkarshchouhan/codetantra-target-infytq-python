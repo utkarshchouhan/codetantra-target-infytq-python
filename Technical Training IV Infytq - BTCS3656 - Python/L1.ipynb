{
 "cells": [
  {
   "cell_type": "markdown",
   "id": "742bcd7e-4a0a-46c7-a39c-430e1436e50b",
   "metadata": {},
   "source": [
    "# Introduction Need For OOP"
   ]
  },
  {
   "cell_type": "markdown",
   "id": "63f9446b-4f49-4f0e-9fcd-b43a71f70cb8",
   "metadata": {},
   "source": [
    "### Ans 1\n",
    "\n",
    "Object-oriented programming was first introduced at MIT in 1950’s.\n",
    "\n",
    "In 1990, James Gosling of Sun Micro Systems developed a simple version of C++ called Java ."
   ]
  },
  {
   "cell_type": "markdown",
   "id": "0c74e179-ae21-4f55-ab54-3fab279cb9fd",
   "metadata": {},
   "source": [
    "### Ans 2\n",
    "\n",
    "A programming paradigm informs how problems are analysed and solved in a programming language.\n",
    "\n",
    "Large systems developed using procedural programming language can be difficult to maintain."
   ]
  },
  {
   "cell_type": "markdown",
   "id": "5fae27d3-142b-4862-86f7-9870749078a5",
   "metadata": {},
   "source": [
    "### Ans 3\n",
    "\n",
    "Objects are instances of classes.\n",
    "\n",
    "A class is like the blueprint or design of which, instances are made.\n",
    "\n",
    "A class contains both attributes and methods."
   ]
  },
  {
   "cell_type": "markdown",
   "id": "718b22d2-0435-49c8-b3e2-b106deeeee51",
   "metadata": {},
   "source": [
    "### Ans 4\n",
    "\n",
    "A class is a combination of data and its associated meaningful functions.\n",
    "\n",
    "Object based programming implements information hiding and abstraction."
   ]
  },
  {
   "cell_type": "markdown",
   "id": "7b1f635a-38f8-4f8b-b207-75fee650d6b0",
   "metadata": {},
   "source": [
    "### Ans 5\n",
    "\n",
    "A class is a combination of data members and member functions.\n",
    "\n",
    "An object is an instance of a class.\n",
    "    \n",
    "Data in an object captures the characteristics (or attributes) of that object.\n",
    "\n",
    "Methods of an object captures the behaviour of the real world object."
   ]
  },
  {
   "cell_type": "markdown",
   "id": "32d5590d-4475-45e4-ae6a-bfb2632d5fb1",
   "metadata": {},
   "source": [
    "# Class and Objects"
   ]
  },
  {
   "cell_type": "code",
   "execution_count": 1,
   "id": "676d27b9-24a6-4c5d-94f4-622a46a6cca0",
   "metadata": {},
   "outputs": [
    {
     "ename": "KeyboardInterrupt",
     "evalue": "Interrupted by user",
     "output_type": "error",
     "traceback": [
      "\u001b[0;31m---------------------------------------------------------------------------\u001b[0m",
      "\u001b[0;31mKeyboardInterrupt\u001b[0m                         Traceback (most recent call last)",
      "Cell \u001b[0;32mIn[1], line 7\u001b[0m\n\u001b[1;32m      4\u001b[0m     \u001b[38;5;28;01mpass\u001b[39;00m\n\u001b[1;32m      6\u001b[0m Emp_1 \u001b[38;5;241m=\u001b[39m Employee()\n\u001b[0;32m----> 7\u001b[0m name \u001b[38;5;241m=\u001b[39m \u001b[38;5;28;43minput\u001b[39;49m\u001b[43m(\u001b[49m\u001b[38;5;124;43m\"\u001b[39;49m\u001b[38;5;124;43mname: \u001b[39;49m\u001b[38;5;124;43m\"\u001b[39;49m\u001b[43m)\u001b[49m\n\u001b[1;32m      8\u001b[0m Emp_1\u001b[38;5;241m.\u001b[39mname \u001b[38;5;241m=\u001b[39m name\n\u001b[1;32m      9\u001b[0m Emp_1\u001b[38;5;241m.\u001b[39msalary \u001b[38;5;241m=\u001b[39m \u001b[38;5;241m25000\u001b[39m\n",
      "File \u001b[0;32m/Library/Frameworks/Python.framework/Versions/3.11/lib/python3.11/site-packages/ipykernel/kernelbase.py:1175\u001b[0m, in \u001b[0;36mKernel.raw_input\u001b[0;34m(self, prompt)\u001b[0m\n\u001b[1;32m   1171\u001b[0m \u001b[38;5;28;01mif\u001b[39;00m \u001b[38;5;129;01mnot\u001b[39;00m \u001b[38;5;28mself\u001b[39m\u001b[38;5;241m.\u001b[39m_allow_stdin:\n\u001b[1;32m   1172\u001b[0m     \u001b[38;5;28;01mraise\u001b[39;00m StdinNotImplementedError(\n\u001b[1;32m   1173\u001b[0m         \u001b[38;5;124m\"\u001b[39m\u001b[38;5;124mraw_input was called, but this frontend does not support input requests.\u001b[39m\u001b[38;5;124m\"\u001b[39m\n\u001b[1;32m   1174\u001b[0m     )\n\u001b[0;32m-> 1175\u001b[0m \u001b[38;5;28;01mreturn\u001b[39;00m \u001b[38;5;28;43mself\u001b[39;49m\u001b[38;5;241;43m.\u001b[39;49m\u001b[43m_input_request\u001b[49m\u001b[43m(\u001b[49m\n\u001b[1;32m   1176\u001b[0m \u001b[43m    \u001b[49m\u001b[38;5;28;43mstr\u001b[39;49m\u001b[43m(\u001b[49m\u001b[43mprompt\u001b[49m\u001b[43m)\u001b[49m\u001b[43m,\u001b[49m\n\u001b[1;32m   1177\u001b[0m \u001b[43m    \u001b[49m\u001b[38;5;28;43mself\u001b[39;49m\u001b[38;5;241;43m.\u001b[39;49m\u001b[43m_parent_ident\u001b[49m\u001b[43m[\u001b[49m\u001b[38;5;124;43m\"\u001b[39;49m\u001b[38;5;124;43mshell\u001b[39;49m\u001b[38;5;124;43m\"\u001b[39;49m\u001b[43m]\u001b[49m\u001b[43m,\u001b[49m\n\u001b[1;32m   1178\u001b[0m \u001b[43m    \u001b[49m\u001b[38;5;28;43mself\u001b[39;49m\u001b[38;5;241;43m.\u001b[39;49m\u001b[43mget_parent\u001b[49m\u001b[43m(\u001b[49m\u001b[38;5;124;43m\"\u001b[39;49m\u001b[38;5;124;43mshell\u001b[39;49m\u001b[38;5;124;43m\"\u001b[39;49m\u001b[43m)\u001b[49m\u001b[43m,\u001b[49m\n\u001b[1;32m   1179\u001b[0m \u001b[43m    \u001b[49m\u001b[43mpassword\u001b[49m\u001b[38;5;241;43m=\u001b[39;49m\u001b[38;5;28;43;01mFalse\u001b[39;49;00m\u001b[43m,\u001b[49m\n\u001b[1;32m   1180\u001b[0m \u001b[43m\u001b[49m\u001b[43m)\u001b[49m\n",
      "File \u001b[0;32m/Library/Frameworks/Python.framework/Versions/3.11/lib/python3.11/site-packages/ipykernel/kernelbase.py:1217\u001b[0m, in \u001b[0;36mKernel._input_request\u001b[0;34m(self, prompt, ident, parent, password)\u001b[0m\n\u001b[1;32m   1214\u001b[0m             \u001b[38;5;28;01mbreak\u001b[39;00m\n\u001b[1;32m   1215\u001b[0m \u001b[38;5;28;01mexcept\u001b[39;00m \u001b[38;5;167;01mKeyboardInterrupt\u001b[39;00m:\n\u001b[1;32m   1216\u001b[0m     \u001b[38;5;66;03m# re-raise KeyboardInterrupt, to truncate traceback\u001b[39;00m\n\u001b[0;32m-> 1217\u001b[0m     \u001b[38;5;28;01mraise\u001b[39;00m \u001b[38;5;167;01mKeyboardInterrupt\u001b[39;00m(\u001b[38;5;124m\"\u001b[39m\u001b[38;5;124mInterrupted by user\u001b[39m\u001b[38;5;124m\"\u001b[39m) \u001b[38;5;28;01mfrom\u001b[39;00m \u001b[38;5;28mNone\u001b[39m\n\u001b[1;32m   1218\u001b[0m \u001b[38;5;28;01mexcept\u001b[39;00m \u001b[38;5;167;01mException\u001b[39;00m:\n\u001b[1;32m   1219\u001b[0m     \u001b[38;5;28mself\u001b[39m\u001b[38;5;241m.\u001b[39mlog\u001b[38;5;241m.\u001b[39mwarning(\u001b[38;5;124m\"\u001b[39m\u001b[38;5;124mInvalid Message:\u001b[39m\u001b[38;5;124m\"\u001b[39m, exc_info\u001b[38;5;241m=\u001b[39m\u001b[38;5;28;01mTrue\u001b[39;00m)\n",
      "\u001b[0;31mKeyboardInterrupt\u001b[0m: Interrupted by user"
     ]
    }
   ],
   "source": [
    "# Ans 1\n",
    "\n",
    "class Employee:    \n",
    "    pass\n",
    "\n",
    "Emp_1 = Employee()\n",
    "name = input(\"name: \")\n",
    "Emp_1.name = name\n",
    "Emp_1.salary = 25000\n",
    "print('Emp_1.name:',Emp_1.name)\n",
    "print(\"Emp_1.salary:\",Emp_1.salary)"
   ]
  },
  {
   "cell_type": "code",
   "execution_count": null,
   "id": "1c1431ea-bddc-49d9-9d03-35a7c58558ea",
   "metadata": {},
   "outputs": [],
   "source": [
    "# Ans 2\n",
    "\n",
    "class Student:    \n",
    "    pass\n",
    "\n",
    "s1 = Student()\n",
    "s2 = Student()\n",
    "\n",
    "s1.name = input(\"s1 name: \")\n",
    ".age = int(input('s1 age: '))\n",
    "s1.degree = input('s1 degree: ')\n",
    "s2.name = input('s2 name: ')\n",
    "s2.age = int(input('s2 age: '))\n",
    "s2.degree = input('s2 degree: ')\n",
    "\n",
    "print(f'Stud_1.name: {s1.name}')\n",
    "print(f'Stud_1.age: {s1.age}')\n",
    "print(f\"Stud_1.graduate: {s1.degree}\")\n",
    "\n",
    "print(f'Stud_2.name: {s2.name}')\n",
    "print(f'Stud_2.age: {s2.age}')\n",
    "print(f\"Stud_2.graduate: {s2.degree}\")"
   ]
  },
  {
   "cell_type": "code",
   "execution_count": null,
   "id": "c014a83e-d371-468d-889c-c8d9fb6e9bd5",
   "metadata": {},
   "outputs": [],
   "source": [
    "class Student:    pass    Stud_1 = Student()  Stud_1.name = 'SriRam'Stud_1.age = 25Stud_1.graduate = 'MBA'print(\"Stud_1.name:\", Stud_1.name)print(\"Stud_1.age:\", Stud_1.age)print(\"Stud_1.graduate:\", Stud_1.graduate)"
   ]
  }
 ],
 "metadata": {
  "kernelspec": {
   "display_name": "Python 3 (ipykernel)",
   "language": "python",
   "name": "python3"
  },
  "language_info": {
   "codemirror_mode": {
    "name": "ipython",
    "version": 3
   },
   "file_extension": ".py",
   "mimetype": "text/x-python",
   "name": "python",
   "nbconvert_exporter": "python",
   "pygments_lexer": "ipython3",
   "version": "3.11.1"
  }
 },
 "nbformat": 4,
 "nbformat_minor": 5
}
