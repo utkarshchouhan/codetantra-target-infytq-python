{
 "cells": [
  {
   "cell_type": "markdown",
   "id": "742bcd7e-4a0a-46c7-a39c-430e1436e50b",
   "metadata": {},
   "source": [
    "# Introduction Need For OOP"
   ]
  },
  {
   "cell_type": "markdown",
   "id": "63f9446b-4f49-4f0e-9fcd-b43a71f70cb8",
   "metadata": {},
   "source": [
    "Ans 1\n",
    "\n",
    "Object-oriented programming was first introduced at MIT in 1950’s.\n",
    "\n",
    "In 1990, James Gosling of Sun Micro Systems developed a simple version of C++ called Java ."
   ]
  },
  {
   "cell_type": "markdown",
   "id": "0c74e179-ae21-4f55-ab54-3fab279cb9fd",
   "metadata": {},
   "source": [
    "Ans 2\n",
    "\n",
    "A programming paradigm informs how problems are analysed and solved in a programming language.\n",
    "\n",
    "Large systems developed using procedural programming language can be difficult to maintain."
   ]
  },
  {
   "cell_type": "markdown",
   "id": "5fae27d3-142b-4862-86f7-9870749078a5",
   "metadata": {},
   "source": [
    "Ans 3\n",
    "\n",
    "Objects are instances of classes.\n",
    "\n",
    "A class is like the blueprint or design of which, instances are made.\n",
    "\n",
    "A class contains both attributes and methods."
   ]
  },
  {
   "cell_type": "markdown",
   "id": "718b22d2-0435-49c8-b3e2-b106deeeee51",
   "metadata": {},
   "source": [
    "Ans 4\n",
    "\n",
    "A class is a combination of data and its associated meaningful functions.\n",
    "\n",
    "Object based programming implements information hiding and abstraction."
   ]
  },
  {
   "cell_type": "markdown",
   "id": "7b1f635a-38f8-4f8b-b207-75fee650d6b0",
   "metadata": {},
   "source": [
    "Ans 5\n",
    "\n",
    "A class is a combination of data members and member functions.\n",
    "\n",
    "An object is an instance of a class.\n",
    "    \n",
    "Data in an object captures the characteristics (or attributes) of that object.\n",
    "\n",
    "Methods of an object captures the behaviour of the real world object."
   ]
  },
  {
   "cell_type": "markdown",
   "id": "32d5590d-4475-45e4-ae6a-bfb2632d5fb1",
   "metadata": {},
   "source": [
    "# Class and Objects"
   ]
  },
  {
   "cell_type": "code",
   "execution_count": 1,
   "id": "676d27b9-24a6-4c5d-94f4-622a46a6cca0",
   "metadata": {},
   "outputs": [
    {
     "ename": "KeyboardInterrupt",
     "evalue": "Interrupted by user",
     "output_type": "error",
     "traceback": [
      "\u001b[0;31m---------------------------------------------------------------------------\u001b[0m",
      "\u001b[0;31mKeyboardInterrupt\u001b[0m                         Traceback (most recent call last)",
      "Cell \u001b[0;32mIn[1], line 7\u001b[0m\n\u001b[1;32m      4\u001b[0m     \u001b[38;5;28;01mpass\u001b[39;00m\n\u001b[1;32m      6\u001b[0m Emp_1 \u001b[38;5;241m=\u001b[39m Employee()\n\u001b[0;32m----> 7\u001b[0m name \u001b[38;5;241m=\u001b[39m \u001b[38;5;28;43minput\u001b[39;49m\u001b[43m(\u001b[49m\u001b[38;5;124;43m\"\u001b[39;49m\u001b[38;5;124;43mname: \u001b[39;49m\u001b[38;5;124;43m\"\u001b[39;49m\u001b[43m)\u001b[49m\n\u001b[1;32m      8\u001b[0m Emp_1\u001b[38;5;241m.\u001b[39mname \u001b[38;5;241m=\u001b[39m name\n\u001b[1;32m      9\u001b[0m Emp_1\u001b[38;5;241m.\u001b[39msalary \u001b[38;5;241m=\u001b[39m \u001b[38;5;241m25000\u001b[39m\n",
      "File \u001b[0;32m/Library/Frameworks/Python.framework/Versions/3.11/lib/python3.11/site-packages/ipykernel/kernelbase.py:1175\u001b[0m, in \u001b[0;36mKernel.raw_input\u001b[0;34m(self, prompt)\u001b[0m\n\u001b[1;32m   1171\u001b[0m \u001b[38;5;28;01mif\u001b[39;00m \u001b[38;5;129;01mnot\u001b[39;00m \u001b[38;5;28mself\u001b[39m\u001b[38;5;241m.\u001b[39m_allow_stdin:\n\u001b[1;32m   1172\u001b[0m     \u001b[38;5;28;01mraise\u001b[39;00m StdinNotImplementedError(\n\u001b[1;32m   1173\u001b[0m         \u001b[38;5;124m\"\u001b[39m\u001b[38;5;124mraw_input was called, but this frontend does not support input requests.\u001b[39m\u001b[38;5;124m\"\u001b[39m\n\u001b[1;32m   1174\u001b[0m     )\n\u001b[0;32m-> 1175\u001b[0m \u001b[38;5;28;01mreturn\u001b[39;00m \u001b[38;5;28;43mself\u001b[39;49m\u001b[38;5;241;43m.\u001b[39;49m\u001b[43m_input_request\u001b[49m\u001b[43m(\u001b[49m\n\u001b[1;32m   1176\u001b[0m \u001b[43m    \u001b[49m\u001b[38;5;28;43mstr\u001b[39;49m\u001b[43m(\u001b[49m\u001b[43mprompt\u001b[49m\u001b[43m)\u001b[49m\u001b[43m,\u001b[49m\n\u001b[1;32m   1177\u001b[0m \u001b[43m    \u001b[49m\u001b[38;5;28;43mself\u001b[39;49m\u001b[38;5;241;43m.\u001b[39;49m\u001b[43m_parent_ident\u001b[49m\u001b[43m[\u001b[49m\u001b[38;5;124;43m\"\u001b[39;49m\u001b[38;5;124;43mshell\u001b[39;49m\u001b[38;5;124;43m\"\u001b[39;49m\u001b[43m]\u001b[49m\u001b[43m,\u001b[49m\n\u001b[1;32m   1178\u001b[0m \u001b[43m    \u001b[49m\u001b[38;5;28;43mself\u001b[39;49m\u001b[38;5;241;43m.\u001b[39;49m\u001b[43mget_parent\u001b[49m\u001b[43m(\u001b[49m\u001b[38;5;124;43m\"\u001b[39;49m\u001b[38;5;124;43mshell\u001b[39;49m\u001b[38;5;124;43m\"\u001b[39;49m\u001b[43m)\u001b[49m\u001b[43m,\u001b[49m\n\u001b[1;32m   1179\u001b[0m \u001b[43m    \u001b[49m\u001b[43mpassword\u001b[49m\u001b[38;5;241;43m=\u001b[39;49m\u001b[38;5;28;43;01mFalse\u001b[39;49;00m\u001b[43m,\u001b[49m\n\u001b[1;32m   1180\u001b[0m \u001b[43m\u001b[49m\u001b[43m)\u001b[49m\n",
      "File \u001b[0;32m/Library/Frameworks/Python.framework/Versions/3.11/lib/python3.11/site-packages/ipykernel/kernelbase.py:1217\u001b[0m, in \u001b[0;36mKernel._input_request\u001b[0;34m(self, prompt, ident, parent, password)\u001b[0m\n\u001b[1;32m   1214\u001b[0m             \u001b[38;5;28;01mbreak\u001b[39;00m\n\u001b[1;32m   1215\u001b[0m \u001b[38;5;28;01mexcept\u001b[39;00m \u001b[38;5;167;01mKeyboardInterrupt\u001b[39;00m:\n\u001b[1;32m   1216\u001b[0m     \u001b[38;5;66;03m# re-raise KeyboardInterrupt, to truncate traceback\u001b[39;00m\n\u001b[0;32m-> 1217\u001b[0m     \u001b[38;5;28;01mraise\u001b[39;00m \u001b[38;5;167;01mKeyboardInterrupt\u001b[39;00m(\u001b[38;5;124m\"\u001b[39m\u001b[38;5;124mInterrupted by user\u001b[39m\u001b[38;5;124m\"\u001b[39m) \u001b[38;5;28;01mfrom\u001b[39;00m \u001b[38;5;28mNone\u001b[39m\n\u001b[1;32m   1218\u001b[0m \u001b[38;5;28;01mexcept\u001b[39;00m \u001b[38;5;167;01mException\u001b[39;00m:\n\u001b[1;32m   1219\u001b[0m     \u001b[38;5;28mself\u001b[39m\u001b[38;5;241m.\u001b[39mlog\u001b[38;5;241m.\u001b[39mwarning(\u001b[38;5;124m\"\u001b[39m\u001b[38;5;124mInvalid Message:\u001b[39m\u001b[38;5;124m\"\u001b[39m, exc_info\u001b[38;5;241m=\u001b[39m\u001b[38;5;28;01mTrue\u001b[39;00m)\n",
      "\u001b[0;31mKeyboardInterrupt\u001b[0m: Interrupted by user"
     ]
    }
   ],
   "source": [
    "# Ans 1\n",
    "\n",
    "class Employee:    \n",
    "    pass\n",
    "\n",
    "Emp_1 = Employee()\n",
    "name = input(\"name: \")\n",
    "Emp_1.name = name\n",
    "Emp_1.salary = 25000\n",
    "print('Emp_1.name:',Emp_1.name)\n",
    "print(\"Emp_1.salary:\",Emp_1.salary)"
   ]
  },
  {
   "cell_type": "code",
   "execution_count": null,
   "id": "1c1431ea-bddc-49d9-9d03-35a7c58558ea",
   "metadata": {},
   "outputs": [],
   "source": [
    "# Ans 2\n",
    "\n",
    "class Student:    \n",
    "    pass\n",
    "\n",
    "s1 = Student()\n",
    "s2 = Student()\n",
    "\n",
    "s1.name = input(\"s1 name: \")\n",
    ".age = int(input('s1 age: '))\n",
    "s1.degree = input('s1 degree: ')\n",
    "s2.name = input('s2 name: ')\n",
    "s2.age = int(input('s2 age: '))\n",
    "s2.degree = input('s2 degree: ')\n",
    "\n",
    "print(f'Stud_1.name: {s1.name}')\n",
    "print(f'Stud_1.age: {s1.age}')\n",
    "print(f\"Stud_1.graduate: {s1.degree}\")\n",
    "\n",
    "print(f'Stud_2.name: {s2.name}')\n",
    "print(f'Stud_2.age: {s2.age}')\n",
    "print(f\"Stud_2.graduate: {s2.degree}\")"
   ]
  },
  {
   "cell_type": "code",
   "execution_count": null,
   "id": "c014a83e-d371-468d-889c-c8d9fb6e9bd5",
   "metadata": {},
   "outputs": [],
   "source": [
    "# Ans 3\n",
    "\n",
    "class Student:    \n",
    "    pass    \n",
    "\n",
    "Stud_1 = Student()  \n",
    "Stud_1.name = 'SriRam'\n",
    "Stud_1.age = 25\n",
    "Stud_1.graduate = 'MBA'\n",
    "\n",
    "print(\"Stud_1.name:\", Stud_1.name)\n",
    "print(\"Stud_1.age:\", Stud_1.age)\n",
    "print(\"Stud_1.graduate:\", Stud_1.graduate)"
   ]
  },
  {
   "cell_type": "code",
   "execution_count": null,
   "id": "2c7203cc-beb4-4b70-ab42-291fd45a03fa",
   "metadata": {},
   "outputs": [],
   "source": [
    "# Ans 4\n",
    "\n",
    "class Student:    \n",
    "    pass\n",
    "\n",
    "obj = Student()\n",
    "obj.name = input('name: ')\n",
    "obj.age = int(input(\"age: \"))\n",
    "obj.degree = input('degree: ')\n",
    "\n",
    "print(f'Stud_1.name: {obj.name}')\n",
    "print(f\"Stud_1.age: {obj.age}\")\n",
    "print(f\"Stud_1.graduate: {obj.degree}\")\n"
   ]
  },
  {
   "cell_type": "code",
   "execution_count": null,
   "id": "fb08e7af-709c-4ab6-8b9e-e8f4fc0606e5",
   "metadata": {},
   "outputs": [],
   "source": [
    "# Ans 5\n",
    "\n",
    "class Employee:\n",
    "    pass\n",
    "\n",
    "obj = Employee()\n",
    "obj.name = input(\"name: \")\n",
    "obj.salary = int(input(\"salary: \"))\n",
    "\n",
    "print(f\"Emp_1.name: {obj.name}\")\n",
    "print(f\"Emp_1.salary: {obj.salary}\")"
   ]
  },
  {
   "cell_type": "code",
   "execution_count": null,
   "id": "197f164d-32d3-4255-b18d-c881cd347bab",
   "metadata": {},
   "outputs": [],
   "source": [
    "# Ans 6\n",
    "\n",
    "print('Enter -1 to exit')\n",
    "array = []\n",
    "\n",
    "while True:    \n",
    "    a = int(input())    \n",
    "    if (a == -1):        \n",
    "        break    \n",
    "    array.append(a)    \n",
    "    \n",
    "total_marks = sum(array)\n",
    "average = total_marks / len(array)\n",
    "average = round(average,2)\n",
    "print(f'total marks:  {total_marks}')\n",
    "print(f'Average:  {average}')"
   ]
  },
  {
   "cell_type": "markdown",
   "id": "59d3e685-bf6d-41e5-8ad1-b59cf0647e47",
   "metadata": {},
   "source": [
    "# Constructor"
   ]
  },
  {
   "cell_type": "markdown",
   "id": "051b29ff-3585-4596-a439-812e066f7b86",
   "metadata": {},
   "source": [
    "Ans 1\n",
    "\n",
    "A constructor can be viewed as a specific method used by the class to perform tasks such as initialising variables, or any start up task.\n",
    "\n",
    "In Java language, the constructor has the same name as the class with no return type defined.\n",
    "\n",
    "A constructor in Python in any class is defined as __init__(self) method."
   ]
  },
  {
   "cell_type": "code",
   "execution_count": null,
   "id": "ef174711-e3e6-4cb6-9c15-dc2d9db5e211",
   "metadata": {},
   "outputs": [],
   "source": [
    "# Ans 2\n",
    "\n",
    "class Employee:\n",
    "\tdef __init__(self, name, salary):\n",
    "\t\tself.name= name\t\t\t\t\n",
    "\t\tself.salary = salary\n",
    "\t\t# Initialize name and salary of the employee\n",
    "\t\t\n",
    "\t\t\n",
    "\tdef displayEmployee(self):\n",
    "\t\tpass\n",
    "name = input(\"name: \")\n",
    "salary = int(input(\"salary: \"))\n",
    "obj = Employee(name,salary)\n",
    "print(f\"name: {obj.name} , salary: {obj.salary}\")\n",
    "\t\t# Write a function to display employee details\n",
    "\t\t\n",
    "\t\t\n",
    "# Print the details of the employee"
   ]
  },
  {
   "cell_type": "code",
   "execution_count": null,
   "id": "47153bce-d7b3-4cbb-acf3-28b75da3787c",
   "metadata": {},
   "outputs": [],
   "source": [
    "# Ans 3\n",
    "\n",
    "class Student:\n",
    "\tdef __init__(self,name,age,email):\n",
    "\t\tself.name = name\n",
    "\t\tself.age = age\n",
    "\t\tself.email = email\n",
    "\t\n",
    "\tdef displayStudent(self):\n",
    "\t\tpass\n",
    "\t\n",
    "name = input('s1 name: ')\n",
    "age = int(input('s1 age: '))\n",
    "name1 = input('s2 name: ')\n",
    "age1 = int(input(\"s2 age: \"))\n",
    "\n",
    "print(f'Stud_1.name: {name}')\n",
    "print(f'Stud_2.name: {name1}')"
   ]
  },
  {
   "cell_type": "code",
   "execution_count": null,
   "id": "3962f01c-9f31-47ee-894a-b1796ee856b3",
   "metadata": {},
   "outputs": [],
   "source": [
    "# Ans 4\n",
    "\n",
    "class Student:\n",
    "\tdef __init__(self, name, age, email):\n",
    "\t\tself.name = name\n",
    "\t\tself.age = age\n",
    "\t\tself.email = email\n",
    "\t\t\n",
    "\tdef studentDetails(self):\n",
    "\t\tpass\n",
    "\n",
    "name = input('name: ')\n",
    "age = int(input('age: '))\n",
    "email = input('email: ')\n",
    "print(f'name: {name} , age: {age} , email: {email}')"
   ]
  },
  {
   "cell_type": "code",
   "execution_count": null,
   "id": "e8881ed1-fbf4-48d9-9b85-fbae7441190e",
   "metadata": {},
   "outputs": [],
   "source": [
    "# Ans 5\n",
    "\n",
    "class Employee: \t\n",
    "\tdef __init__(self,name1,salary1,name2,salary2): \t\t\n",
    "\t\tself.name1 = name1 \t\t\n",
    "\t\tself.name2 = name2 \t\t\n",
    "\t\tself.salary1 = salary1 \t\t\n",
    "\t\tself.salary2 = salary2 \t\n",
    "\tdef DisplayEmployee(self): \t\t\n",
    "\t\tprint('Name:',self.name1,',','Salary:',self.salary1) \t\t\n",
    "\t\tprint('Name:',self.name2,',','Salary:',self.salary2) \t\t\n",
    "\t\tprint('Total Salary =', self.salary1+self.salary2) \n",
    "\t\t\n",
    "n1 = input('Enter namee of the employee1: ') \n",
    "n2 = int(input('Enter salary of the employee1 ')) \n",
    "m1 = str(input('Enter namee of the employee2: ')) \n",
    "m2 = int(input('Enter salary of the employee2: ')) \n",
    "emp_1 = Employee(n1,n2,m1,m2) \n",
    "emp_1.DisplayEmployee()\n"
   ]
  },
  {
   "cell_type": "markdown",
   "id": "a8aff4db-faef-471c-80bf-6a2794a2aafc",
   "metadata": {},
   "source": [
    "# Abstraction and Encapsulation"
   ]
  },
  {
   "cell_type": "markdown",
   "id": "df30d113-bd76-4f52-a5d1-4b015a8f9b4d",
   "metadata": {},
   "source": [
    "Ans 1\n",
    "\n",
    " A class is a combination of data and functions, which is nothing but implementation of encapsulation.\n",
    " \n",
    " An object is a run-time instance of a class."
   ]
  },
  {
   "cell_type": "markdown",
   "id": "ef9ede96-9ae4-432a-b806-f8609e664ae9",
   "metadata": {},
   "source": [
    "Ans 2\n",
    "\n",
    "The Object Oriented Programming evolved to overcome the limitations of procedural programming approach.\n",
    "\n",
    "Data abstraction refers to the act of representing essential features without including the background details and explanations.\n",
    "\n",
    "Data encapsulation is the way of combining both data and functions that operate on the data under a single unit.\n",
    "\n",
    "The insulation of data from direct access by the program is called data hiding."
   ]
  },
  {
   "cell_type": "code",
   "execution_count": null,
   "id": "213dd293-53af-4008-a8c5-815ac92732ea",
   "metadata": {},
   "outputs": [],
   "source": []
  }
 ],
 "metadata": {
  "kernelspec": {
   "display_name": "Python 3 (ipykernel)",
   "language": "python",
   "name": "python3"
  },
  "language_info": {
   "codemirror_mode": {
    "name": "ipython",
    "version": 3
   },
   "file_extension": ".py",
   "mimetype": "text/x-python",
   "name": "python",
   "nbconvert_exporter": "python",
   "pygments_lexer": "ipython3",
   "version": "3.11.1"
  }
 },
 "nbformat": 4,
 "nbformat_minor": 5
}
