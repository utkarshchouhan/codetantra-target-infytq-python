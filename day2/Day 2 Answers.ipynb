{
 "cells": [
  {
   "cell_type": "markdown",
   "id": "922f4283-ca60-4978-b489-70060620d156",
   "metadata": {},
   "source": [
    "# Number: Int, Float, Complex, Number type conversion"
   ]
  },
  {
   "cell_type": "code",
   "execution_count": 1,
   "id": "a3aea92a-535f-449b-819b-c299e0a71350",
   "metadata": {},
   "outputs": [
    {
     "name": "stdout",
     "output_type": "stream",
     "text": [
      "<class 'int'>\n",
      "<class 'float'>\n",
      "<class 'complex'>\n"
     ]
    }
   ],
   "source": [
    "# Ans 1\n",
    "a = 365\n",
    "#Print type of a\n",
    "print(type(a))\n",
    "a = 345.65\n",
    "#Print type of a\n",
    "print(type(a))\n",
    "\n",
    "a = 45 + 5j\n",
    "#Print type of a\n",
    "print(type(a))"
   ]
  },
  {
   "cell_type": "code",
   "execution_count": 2,
   "id": "1b81a171-d4a0-4612-958d-a9fb0240bbec",
   "metadata": {},
   "outputs": [
    {
     "name": "stdout",
     "output_type": "stream",
     "text": [
      "234.56\n",
      "{'a': 1, 'b': 2, 'c': 3}\n",
      "global\n",
      "(6+8j)\n",
      "<class 'float'>\n",
      "<class 'dict'>\n",
      "<class 'str'>\n",
      "<class 'complex'>\n"
     ]
    }
   ],
   "source": [
    "# Ans 2\n",
    "p = 234.56\n",
    "q = {'a' : 1, 'b':2 , 'c' : 3}\n",
    "r = 'global' \n",
    "s = 6 + 8j\n",
    "print(p)\n",
    "print(q)\n",
    "print(r)\n",
    "print(s)\n",
    "print(type(p))\n",
    "print(type(q))\n",
    "print(type(r))\n",
    "print(type(s))\n"
   ]
  },
  {
   "cell_type": "code",
   "execution_count": 3,
   "id": "6c7271d2-19c8-46b0-a3fd-0970e4531aa6",
   "metadata": {},
   "outputs": [
    {
     "name": "stdout",
     "output_type": "stream",
     "text": [
      "890\n",
      "{'a': '1', 'b': '2', 'c': '3'}\n",
      "information\n",
      "{1, 3, 4, 5, 8}\n",
      "<class 'int'>\n",
      "<class 'dict'>\n",
      "<class 'str'>\n",
      "<class 'set'>\n"
     ]
    }
   ],
   "source": [
    "# Ans 3\n",
    "p = 890\n",
    "q = {'a':'1','b':'2','c':'3'}\n",
    "r = \"information\"\n",
    "s = {1,8,3,5,4}\n",
    "print(p)\n",
    "print(q)\n",
    "print(r)\n",
    "print(s)\n",
    "print(type(p))\n",
    "print(type(q))\n",
    "print(type(r))\n",
    "print(type(s))"
   ]
  },
  {
   "cell_type": "code",
   "execution_count": null,
   "id": "bf2a0771-7a73-4722-ac13-aa7cc4e59023",
   "metadata": {},
   "outputs": [],
   "source": []
  }
 ],
 "metadata": {
  "kernelspec": {
   "display_name": "Python 3 (ipykernel)",
   "language": "python",
   "name": "python3"
  },
  "language_info": {
   "codemirror_mode": {
    "name": "ipython",
    "version": 3
   },
   "file_extension": ".py",
   "mimetype": "text/x-python",
   "name": "python",
   "nbconvert_exporter": "python",
   "pygments_lexer": "ipython3",
   "version": "3.11.1"
  }
 },
 "nbformat": 4,
 "nbformat_minor": 5
}
