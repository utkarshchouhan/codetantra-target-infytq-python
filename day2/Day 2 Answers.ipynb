{
 "cells": [
  {
   "cell_type": "markdown",
   "id": "922f4283-ca60-4978-b489-70060620d156",
   "metadata": {},
   "source": [
    "# Number: Int, Float, Complex, Number type conversion"
   ]
  },
  {
   "cell_type": "code",
   "execution_count": null,
   "id": "a3aea92a-535f-449b-819b-c299e0a71350",
   "metadata": {},
   "outputs": [],
   "source": [
    "# Ans 1\n",
    "a = 365\n",
    "#Print type of a\n",
    "print(type(a))\n",
    "a = 345.65\n",
    "#Print type of a\n",
    "print(type(a))\n",
    "\n",
    "a = 45 + 5j\n",
    "#Print type of a\n",
    "print(type(a))"
   ]
  },
  {
   "cell_type": "code",
   "execution_count": null,
   "id": "1b81a171-d4a0-4612-958d-a9fb0240bbec",
   "metadata": {},
   "outputs": [],
   "source": [
    "# Ans 2\n",
    "p = 234.56\n",
    "q = {'a' : 1, 'b':2 , 'c' : 3}\n",
    "r = 'global' \n",
    "s = 6 + 8j\n",
    "print(p)\n",
    "print(q)\n",
    "print(r)\n",
    "print(s)\n",
    "print(type(p))\n",
    "print(type(q))\n",
    "print(type(r))\n",
    "print(type(s))\n"
   ]
  },
  {
   "cell_type": "code",
   "execution_count": null,
   "id": "6c7271d2-19c8-46b0-a3fd-0970e4531aa6",
   "metadata": {},
   "outputs": [],
   "source": [
    "# Ans 3\n",
    "p = 890\n",
    "q = {'a':'1','b':'2','c':'3'}\n",
    "r = \"information\"\n",
    "s = {1,8,3,5,4}\n",
    "print(p)\n",
    "print(q)\n",
    "print(r)\n",
    "print(s)\n",
    "print(type(p))\n",
    "print(type(q))\n",
    "print(type(r))\n",
    "print(type(s))"
   ]
  },
  {
   "cell_type": "code",
   "execution_count": null,
   "id": "22da5a24-bfc4-424c-bab3-b8edf8c82d39",
   "metadata": {},
   "outputs": [],
   "source": [
    "# Ans 4\n",
    "# find quotient using '/' and '//' like (a/b) and (a//b)\n",
    "\n",
    "a = int(input('a: '))\n",
    "b = int(input('b: '))\n",
    "print(f\"{a} / {b} = {a/b}\")\n",
    "print(f\"{a} // {b} = {a//b}\")\n",
    "print(f\"{a} % {b} = {a%b}\")"
   ]
  },
  {
   "cell_type": "code",
   "execution_count": null,
   "id": "337afa30-b197-4cec-bfcf-8b15313b282a",
   "metadata": {},
   "outputs": [],
   "source": [
    "# Ans 5\n",
    "a1 = complex(input('c1: '))\n",
    "b2 = complex(input('c2: '))\n",
    "print(f\"a1 + b2 = {a1 + b2}\")\n",
    "print(f\"a1 - b2 = {a1 - b2}\")\n",
    "print(f\"a1 * b2 = {a1 * b2}\")\n",
    "print(f\"a1 / b2 = {a1 / b2}\")"
   ]
  },
  {
   "cell_type": "code",
   "execution_count": null,
   "id": "da8d6ffe-96b2-4c1f-a5b3-e2c42c8d426d",
   "metadata": {},
   "outputs": [],
   "source": [
    "# Ans 6\n",
    "\n",
    "# Type Conversion Example\n",
    "a = 62\n",
    "print(f'converting to int: {int(a)} ,data type: {type(a)}')\n",
    "print(f'converting to float: {float(a)} ,data type: {type(float(a))}')\n",
    "print(f'converting to complex: {complex(a)} ,data type: {type(complex(a))}')\n"
   ]
  },
  {
   "cell_type": "code",
   "execution_count": null,
   "id": "908a0c9a-0925-439d-931d-ecf17dd655a2",
   "metadata": {},
   "outputs": [],
   "source": [
    "# Ans 7\n",
    "x = int(input(\"x: \"))\n",
    "print(f\"Decimal: {x} \")\n",
    "print(f\"Binary: {bin(x)} \")\n",
    "print(f\"Octal: {oct(x)} \")\n",
    "print(f\"Hexadecimal: {hex(x)}\")"
   ]
  },
  {
   "cell_type": "markdown",
   "id": "08e43417-85cf-4b9d-85ae-eddf98177bde",
   "metadata": {},
   "source": [
    "# Mathematical functions, Abs(), log() , ceil(), exp(), floor(), pow(),sqrt()"
   ]
  },
  {
   "cell_type": "code",
   "execution_count": null,
   "id": "b7307e19-434a-48c9-9948-addecfc67ce8",
   "metadata": {},
   "outputs": [],
   "source": [
    "# Ans 1\n",
    "import math\n",
    "num = float(input(\"num: \"))\n",
    "if num - int(num) >=.5:\n",
    "\tprint(\"result:\", math.ceil(num))\n",
    "else:\n",
    "\tprint(\"result:\", math.trunc(num))"
   ]
  },
  {
   "cell_type": "markdown",
   "id": "b6fb6b7f-72b5-4f34-9636-d9f04eaccf7c",
   "metadata": {},
   "source": [
    "# Random number function: Choice(), Randomrange(), Random(), Seed(), Shuffle(), Uniform()"
   ]
  },
  {
   "cell_type": "markdown",
   "id": "39db0336-154b-4a19-a933-ae0cdd82268c",
   "metadata": {},
   "source": [
    "### Ans 1\n",
    "random() function returns random values between 0.0 and 1.0 only.m"
   ]
  },
  {
   "cell_type": "markdown",
   "id": "febe102f-b742-4526-a3d2-6cc48cc2c3c3",
   "metadata": {},
   "source": [
    "# Date and Time functions"
   ]
  },
  {
   "cell_type": "markdown",
   "id": "d63045d6-752b-40ba-9810-5d1035427829",
   "metadata": {
    "tags": []
   },
   "source": [
    "### Ans 1\n",
    "The datetime module has many classes for manipulating dates and times.\n",
    "\n",
    "The implementation provided by datetime classes are very efficient for output formatting and manipulation of date and time.\n",
    "\n",
    "An aware object has information of algorithmic time adjustments, such as time zone and daylight saving time information.\n",
    "\n",
    "The tzinfo objects store information about the offset from UTC time."
   ]
  },
  {
   "cell_type": "code",
   "execution_count": null,
   "id": "ffe762df-dfc1-4750-ad0f-a2f160040d4e",
   "metadata": {},
   "outputs": [],
   "source": [
    "# Ans 2\n",
    "import datetime\n",
    "from datetime import date\n",
    "from datetime import timedelta\n",
    "d = input(\"date in yyyy-mm-dd format: \")\n",
    "\n",
    "days = int(input(\"days to add the current date: \"))\n",
    "\n",
    "year, month, day = d.split('-')\n",
    "d = datetime.date(int(year), int(month), int(day)) # converting string data into int \n",
    "d = d+timedelta(days)\n",
    "print(d)\n",
    "# print weekday using date.weekday() by passing d as argument\n",
    "print(\"weekday(0-6):\",date.weekday(d))\n",
    "\n",
    "# print date.isoweekday() by passing d as argument\n",
    "print(\"weekday(1-7):\",date.isoweekday(d))"
   ]
  },
  {
   "cell_type": "code",
   "execution_count": null,
   "id": "01904870-e7e1-46df-b158-1894492f19ca",
   "metadata": {},
   "outputs": [],
   "source": []
  },
  {
   "cell_type": "code",
   "execution_count": null,
   "id": "e7dd9db3-e182-49d0-a6b1-2bf2d09968f7",
   "metadata": {},
   "outputs": [],
   "source": []
  },
  {
   "cell_type": "code",
   "execution_count": null,
   "id": "ff72ccf8-4fdc-4570-bd16-eb987f1b96a5",
   "metadata": {},
   "outputs": [],
   "source": []
  },
  {
   "cell_type": "code",
   "execution_count": null,
   "id": "2f6ab5ff-be2e-43a1-ad2f-8494709a5cb3",
   "metadata": {},
   "outputs": [],
   "source": []
  },
  {
   "cell_type": "code",
   "execution_count": null,
   "id": "865539d5-53f1-47f0-b2a6-8767dca2c40c",
   "metadata": {},
   "outputs": [],
   "source": []
  },
  {
   "cell_type": "code",
   "execution_count": null,
   "id": "b70182e0-6361-47dd-9217-4c23a0ff6c4f",
   "metadata": {},
   "outputs": [],
   "source": []
  },
  {
   "cell_type": "code",
   "execution_count": null,
   "id": "5b523a5b-9b63-4390-a8d9-56b8d763179d",
   "metadata": {},
   "outputs": [],
   "source": []
  },
  {
   "cell_type": "markdown",
   "id": "05298e7c-b9af-465b-9b15-6a8dec999ae0",
   "metadata": {},
   "source": [
    "# Strings - Accessing values in string & Updating strings"
   ]
  },
  {
   "cell_type": "code",
   "execution_count": null,
   "id": "0bee15e0-9cdb-4f70-95e0-94c48771faab",
   "metadata": {},
   "outputs": [],
   "source": [
    "# Ans 1 \n",
    "\n",
    "strn = input(\"input: \")\n",
    "if len(strn) < 3:\n",
    "\tprint(\"output:\",strn)\n",
    "else:\n",
    "\tx = strn[0:2] + strn[-2:]\n",
    "\tprint(\"output:\",x)"
   ]
  },
  {
   "cell_type": "code",
   "execution_count": null,
   "id": "3949d055-5413-4f1e-93c4-6c8ca29966a7",
   "metadata": {},
   "outputs": [],
   "source": [
    "# Ans 2\n",
    "\n",
    "strn = input(\"str: \")\n",
    "if len(strn) == 1:\n",
    "\tprint(strn)\n",
    "elif len(strn) == 0:\n",
    "\tprint(\"null\")\n",
    "else:\n",
    "\tans = strn[-1] + strn[1:-1] + strn[0]\n",
    "\t\n",
    "\tprint(\"output:\",ans)"
   ]
  },
  {
   "cell_type": "markdown",
   "id": "0750f15b-f443-4f98-aa0e-34c9e52a779c",
   "metadata": {
    "tags": []
   },
   "source": [
    "# Escape characters"
   ]
  },
  {
   "cell_type": "markdown",
   "id": "7967084b-14a7-450a-af07-406696bd0e09",
   "metadata": {},
   "source": [
    "### Ans 1\n",
    "Single Quote"
   ]
  },
  {
   "cell_type": "markdown",
   "id": "6fef20c2-94b3-4224-a7e8-886de9c046c2",
   "metadata": {},
   "source": [
    "# String - special operators, formatting operator"
   ]
  },
  {
   "cell_type": "code",
   "execution_count": null,
   "id": "286d615d-6ec8-4bc5-8cce-0937a7b73418",
   "metadata": {},
   "outputs": [],
   "source": [
    "# Ans 1\n",
    "str1 = \"This is my first String\"\n",
    "print(str1)\n",
    "# print the string\n",
    "print(str1[11])\n",
    "# print letter 'f' using Positive Index\n",
    "# print letter 'S' using Negative Index.\n",
    "print(str1[-6])"
   ]
  },
  {
   "cell_type": "markdown",
   "id": "0656557b-317a-4578-8c68-f0231e12f310",
   "metadata": {},
   "source": [
    "# Triple quotes & Unicode string"
   ]
  },
  {
   "cell_type": "code",
   "execution_count": null,
   "id": "913685f8-d160-48e0-9e9b-6707d8cab77c",
   "metadata": {},
   "outputs": [],
   "source": [
    "# Ans 1\n",
    "\n",
    "#print(\"1\")\n",
    "print(\"2\")\n",
    "#print(\"3\")\n",
    "print(\"4\")\n",
    "#print(\"5\")\n",
    "print(\"6\")\n",
    "#print(\"7\")\n",
    "print(\"8\")\n",
    "#print(\"9\")\n",
    "print(\"10\")\n",
    "#print(\"11\")\n",
    "print(\"12\")\n",
    "#print(\"13\")"
   ]
  },
  {
   "cell_type": "code",
   "execution_count": null,
   "id": "98a22d54-aa95-4be1-bd49-d458050b3eeb",
   "metadata": {},
   "outputs": [],
   "source": [
    "# Ans 2\n",
    "\n",
    "#print(\"1\")\n",
    "#print(\"2\")\n",
    "#print(\"3\")\n",
    "print(\"4\")\n",
    "#print(\"5\")\n",
    "print(\"6\")\n",
    "#print(\"7\")\n",
    "print(\"8\")\n",
    "print(\"9\")\n",
    "print(\"10\")\n",
    "#print(\"11\")\n",
    "print(\"12\")\n",
    "#print(\"13\")"
   ]
  },
  {
   "cell_type": "code",
   "execution_count": null,
   "id": "676fd76a-1d63-40f3-b033-cd5c2a428fb0",
   "metadata": {},
   "outputs": [],
   "source": [
    "# Ans 3\n",
    "\n",
    "#print(\"1\")\n",
    "print(\"2\")\n",
    "print(\"3\")\n",
    "#print(\"4\")\n",
    "print(\"5\")\n",
    "#print(\"6\")\n",
    "print(\"7\")\n",
    "#print(\"8\")\n",
    "#print(\"9\")\n",
    "#print(\"10\")\n",
    "print(\"11\")\n",
    "#print(\"12\")\n",
    "print(\"13\")"
   ]
  },
  {
   "cell_type": "code",
   "execution_count": null,
   "id": "a11bf417-59da-4ce8-8beb-2d20fde51fa8",
   "metadata": {},
   "outputs": [],
   "source": [
    "# Ans 4\n",
    "\n",
    "print(\"1\")\n",
    "#print(\"2\")\n",
    "print(\"3\")\n",
    "#print(\"4\")\n",
    "\n",
    "print(\"5\")\n",
    "#print(\"6\")\n",
    "print(\"7\")\n",
    "#print(\"8\")\n",
    "print(\"9\")\n",
    "# print(\"10\")\n",
    "print(\"11\")\n",
    "# print(\"12\")\n",
    "print(\"13\")"
   ]
  },
  {
   "cell_type": "code",
   "execution_count": null,
   "id": "b18a98c9-594f-4c18-b96e-cacea0c24eed",
   "metadata": {},
   "outputs": [],
   "source": [
    "# Ans 5\n",
    "\n",
    "def abc():\n",
    "\t\"\"\"Function is defined to print string abc.\"\"\"\n",
    "\tprint(\"abc\")\n",
    "\n",
    "def pqr(a, b):\n",
    "\t\"\"\"Function is defined to print the product of parameters passed.\n",
    "\t\n",
    "\ta -- is the first parameter.\n",
    "\tb -- is the second parameter.\n",
    "\t\"\"\"\n",
    "\tprint(a * b)\n",
    "\t\n",
    "# Write your code here to print docstring's of abc and pqr methods\n",
    "print(abc.__doc__)\n",
    "print(pqr.__doc__)"
   ]
  },
  {
   "cell_type": "markdown",
   "id": "bf0e96ee-5248-4759-8af1-bda13415ef72",
   "metadata": {},
   "source": [
    "# List - Accessing values, Updating, Delete elements"
   ]
  },
  {
   "cell_type": "markdown",
   "id": "bdaa4bf5-203d-47b1-b820-dcccce5e64cc",
   "metadata": {},
   "source": [
    "### Ans 1\n",
    "\n",
    "Lists are ordered and can contain other lists as elements."
   ]
  },
  {
   "cell_type": "code",
   "execution_count": 3,
   "id": "593b1135-e3d3-4b73-ab44-a45845c7cb50",
   "metadata": {},
   "outputs": [
    {
     "ename": "KeyboardInterrupt",
     "evalue": "Interrupted by user",
     "output_type": "error",
     "traceback": [
      "\u001b[0;31m---------------------------------------------------------------------------\u001b[0m",
      "\u001b[0;31mKeyboardInterrupt\u001b[0m                         Traceback (most recent call last)",
      "Cell \u001b[0;32mIn[3], line 3\u001b[0m\n\u001b[1;32m      1\u001b[0m \u001b[38;5;66;03m# Ans 2\u001b[39;00m\n\u001b[0;32m----> 3\u001b[0m data \u001b[38;5;241m=\u001b[39m \u001b[38;5;28;43minput\u001b[39;49m\u001b[43m(\u001b[49m\u001b[38;5;124;43m\"\u001b[39;49m\u001b[38;5;124;43mdata: \u001b[39;49m\u001b[38;5;124;43m\"\u001b[39;49m\u001b[43m)\u001b[49m\u001b[38;5;241m.\u001b[39msplit(\u001b[38;5;124m\"\u001b[39m\u001b[38;5;124m,\u001b[39m\u001b[38;5;124m\"\u001b[39m)\n\u001b[1;32m      4\u001b[0m l \u001b[38;5;241m=\u001b[39m []\n\u001b[1;32m      5\u001b[0m l\u001b[38;5;241m.\u001b[39mappend(data)\n",
      "File \u001b[0;32m/Library/Frameworks/Python.framework/Versions/3.11/lib/python3.11/site-packages/ipykernel/kernelbase.py:1175\u001b[0m, in \u001b[0;36mKernel.raw_input\u001b[0;34m(self, prompt)\u001b[0m\n\u001b[1;32m   1171\u001b[0m \u001b[38;5;28;01mif\u001b[39;00m \u001b[38;5;129;01mnot\u001b[39;00m \u001b[38;5;28mself\u001b[39m\u001b[38;5;241m.\u001b[39m_allow_stdin:\n\u001b[1;32m   1172\u001b[0m     \u001b[38;5;28;01mraise\u001b[39;00m StdinNotImplementedError(\n\u001b[1;32m   1173\u001b[0m         \u001b[38;5;124m\"\u001b[39m\u001b[38;5;124mraw_input was called, but this frontend does not support input requests.\u001b[39m\u001b[38;5;124m\"\u001b[39m\n\u001b[1;32m   1174\u001b[0m     )\n\u001b[0;32m-> 1175\u001b[0m \u001b[38;5;28;01mreturn\u001b[39;00m \u001b[38;5;28;43mself\u001b[39;49m\u001b[38;5;241;43m.\u001b[39;49m\u001b[43m_input_request\u001b[49m\u001b[43m(\u001b[49m\n\u001b[1;32m   1176\u001b[0m \u001b[43m    \u001b[49m\u001b[38;5;28;43mstr\u001b[39;49m\u001b[43m(\u001b[49m\u001b[43mprompt\u001b[49m\u001b[43m)\u001b[49m\u001b[43m,\u001b[49m\n\u001b[1;32m   1177\u001b[0m \u001b[43m    \u001b[49m\u001b[38;5;28;43mself\u001b[39;49m\u001b[38;5;241;43m.\u001b[39;49m\u001b[43m_parent_ident\u001b[49m\u001b[43m[\u001b[49m\u001b[38;5;124;43m\"\u001b[39;49m\u001b[38;5;124;43mshell\u001b[39;49m\u001b[38;5;124;43m\"\u001b[39;49m\u001b[43m]\u001b[49m\u001b[43m,\u001b[49m\n\u001b[1;32m   1178\u001b[0m \u001b[43m    \u001b[49m\u001b[38;5;28;43mself\u001b[39;49m\u001b[38;5;241;43m.\u001b[39;49m\u001b[43mget_parent\u001b[49m\u001b[43m(\u001b[49m\u001b[38;5;124;43m\"\u001b[39;49m\u001b[38;5;124;43mshell\u001b[39;49m\u001b[38;5;124;43m\"\u001b[39;49m\u001b[43m)\u001b[49m\u001b[43m,\u001b[49m\n\u001b[1;32m   1179\u001b[0m \u001b[43m    \u001b[49m\u001b[43mpassword\u001b[49m\u001b[38;5;241;43m=\u001b[39;49m\u001b[38;5;28;43;01mFalse\u001b[39;49;00m\u001b[43m,\u001b[49m\n\u001b[1;32m   1180\u001b[0m \u001b[43m\u001b[49m\u001b[43m)\u001b[49m\n",
      "File \u001b[0;32m/Library/Frameworks/Python.framework/Versions/3.11/lib/python3.11/site-packages/ipykernel/kernelbase.py:1217\u001b[0m, in \u001b[0;36mKernel._input_request\u001b[0;34m(self, prompt, ident, parent, password)\u001b[0m\n\u001b[1;32m   1214\u001b[0m             \u001b[38;5;28;01mbreak\u001b[39;00m\n\u001b[1;32m   1215\u001b[0m \u001b[38;5;28;01mexcept\u001b[39;00m \u001b[38;5;167;01mKeyboardInterrupt\u001b[39;00m:\n\u001b[1;32m   1216\u001b[0m     \u001b[38;5;66;03m# re-raise KeyboardInterrupt, to truncate traceback\u001b[39;00m\n\u001b[0;32m-> 1217\u001b[0m     \u001b[38;5;28;01mraise\u001b[39;00m \u001b[38;5;167;01mKeyboardInterrupt\u001b[39;00m(\u001b[38;5;124m\"\u001b[39m\u001b[38;5;124mInterrupted by user\u001b[39m\u001b[38;5;124m\"\u001b[39m) \u001b[38;5;28;01mfrom\u001b[39;00m \u001b[38;5;28mNone\u001b[39m\n\u001b[1;32m   1218\u001b[0m \u001b[38;5;28;01mexcept\u001b[39;00m \u001b[38;5;167;01mException\u001b[39;00m:\n\u001b[1;32m   1219\u001b[0m     \u001b[38;5;28mself\u001b[39m\u001b[38;5;241m.\u001b[39mlog\u001b[38;5;241m.\u001b[39mwarning(\u001b[38;5;124m\"\u001b[39m\u001b[38;5;124mInvalid Message:\u001b[39m\u001b[38;5;124m\"\u001b[39m, exc_info\u001b[38;5;241m=\u001b[39m\u001b[38;5;28;01mTrue\u001b[39;00m)\n",
      "\u001b[0;31mKeyboardInterrupt\u001b[0m: Interrupted by user"
     ]
    }
   ],
   "source": [
    "# Ans 2\n",
    "\n",
    "data = input(\"data: \").split(\",\")\n",
    "l = []\n",
    "l.append(data)\n",
    "print(f\"list: {l[0]}\")\n",
    "print(f\"type of list: {type(l)}\")"
   ]
  },
  {
   "cell_type": "code",
   "execution_count": null,
   "id": "bbbcc423-4de3-4f77-8cb7-54a1eccb2018",
   "metadata": {},
   "outputs": [],
   "source": [
    "# Ans 3\n",
    "\n",
    "data = input(\"data: \")\n",
    "\n",
    "# print type of input data here\n",
    "print(f\"type of data: {type(data)}\")\n",
    "\n",
    "list1 = data.split() # split() is used to convert a string into list\n",
    "\n",
    "# print list1\n",
    "print(f\"list: {list1}\")\n",
    "\n",
    "# print type of list1\n",
    "print(f\"type of list: {type(list1)}\")"
   ]
  },
  {
   "cell_type": "code",
   "execution_count": null,
   "id": "70b6e1a7-d2a0-4cee-a92f-7694069b08cd",
   "metadata": {},
   "outputs": [],
   "source": [
    "# Ans 4\n",
    "\n",
    "l1 = []\n",
    "for i in range(int(input())):\n",
    "\tx = input()\n",
    "\tl1.append(x)\n",
    "print(l1)"
   ]
  },
  {
   "cell_type": "code",
   "execution_count": null,
   "id": "556c105b-4526-4db0-8614-7fa88b142488",
   "metadata": {},
   "outputs": [],
   "source": [
    "# Ans 5\n",
    "\n",
    "data = list(map(str,input(\"data: \").split(\",\")))\n",
    "\n",
    "print(data)\n",
    "\n",
    "l1 = []\n",
    "for i in range(len(data)):\n",
    "\tif data[i] in l1:\n",
    "\t\tpass\n",
    "\telse:\n",
    "\t\tl1.append(data[i])\n",
    "print(f\"after removing duplicates: {l1}\")"
   ]
  },
  {
   "cell_type": "code",
   "execution_count": null,
   "id": "577ff9dd-457c-4d9d-8744-63c34626019c",
   "metadata": {},
   "outputs": [],
   "source": [
    "# Ans 6"
   ]
  },
  {
   "cell_type": "code",
   "execution_count": 28,
   "id": "47eedbe5-557a-437a-b752-dcbd9cc521dd",
   "metadata": {},
   "outputs": [
    {
     "name": "stdin",
     "output_type": "stream",
     "text": [
      " sachin\n",
      " rohit\n"
     ]
    },
    {
     "name": "stdout",
     "output_type": "stream",
     "text": [
      "False\n"
     ]
    }
   ],
   "source": [
    "print(input() < input())"
   ]
  },
  {
   "cell_type": "code",
   "execution_count": null,
   "id": "dc598063-0af1-4c69-b4d3-c7e9ad4dc5a7",
   "metadata": {},
   "outputs": [],
   "source": []
  }
 ],
 "metadata": {
  "kernelspec": {
   "display_name": "Python 3 (ipykernel)",
   "language": "python",
   "name": "python3"
  },
  "language_info": {
   "codemirror_mode": {
    "name": "ipython",
    "version": 3
   },
   "file_extension": ".py",
   "mimetype": "text/x-python",
   "name": "python",
   "nbconvert_exporter": "python",
   "pygments_lexer": "ipython3",
   "version": "3.11.1"
  }
 },
 "nbformat": 4,
 "nbformat_minor": 5
}
