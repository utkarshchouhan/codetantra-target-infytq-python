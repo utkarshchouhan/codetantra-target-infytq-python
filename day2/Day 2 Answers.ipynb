{
 "cells": [
  {
   "cell_type": "markdown",
   "id": "922f4283-ca60-4978-b489-70060620d156",
   "metadata": {},
   "source": [
    "# Number: Int, Float, Complex, Number type conversion"
   ]
  },
  {
   "cell_type": "code",
   "execution_count": null,
   "id": "a3aea92a-535f-449b-819b-c299e0a71350",
   "metadata": {},
   "outputs": [],
   "source": [
    "# Ans 1\n",
    "a = 365\n",
    "#Print type of a\n",
    "print(type(a))\n",
    "a = 345.65\n",
    "#Print type of a\n",
    "print(type(a))\n",
    "\n",
    "a = 45 + 5j\n",
    "#Print type of a\n",
    "print(type(a))"
   ]
  },
  {
   "cell_type": "code",
   "execution_count": null,
   "id": "1b81a171-d4a0-4612-958d-a9fb0240bbec",
   "metadata": {},
   "outputs": [],
   "source": [
    "# Ans 2\n",
    "p = 234.56\n",
    "q = {'a' : 1, 'b':2 , 'c' : 3}\n",
    "r = 'global' \n",
    "s = 6 + 8j\n",
    "print(p)\n",
    "print(q)\n",
    "print(r)\n",
    "print(s)\n",
    "print(type(p))\n",
    "print(type(q))\n",
    "print(type(r))\n",
    "print(type(s))\n"
   ]
  },
  {
   "cell_type": "code",
   "execution_count": null,
   "id": "6c7271d2-19c8-46b0-a3fd-0970e4531aa6",
   "metadata": {},
   "outputs": [],
   "source": [
    "# Ans 3\n",
    "p = 890\n",
    "q = {'a':'1','b':'2','c':'3'}\n",
    "r = \"information\"\n",
    "s = {1,8,3,5,4}\n",
    "print(p)\n",
    "print(q)\n",
    "print(r)\n",
    "print(s)\n",
    "print(type(p))\n",
    "print(type(q))\n",
    "print(type(r))\n",
    "print(type(s))"
   ]
  },
  {
   "cell_type": "code",
   "execution_count": null,
   "id": "22da5a24-bfc4-424c-bab3-b8edf8c82d39",
   "metadata": {},
   "outputs": [],
   "source": [
    "# Ans 4\n",
    "# find quotient using '/' and '//' like (a/b) and (a//b)\n",
    "\n",
    "a = int(input('a: '))\n",
    "b = int(input('b: '))\n",
    "print(f\"{a} / {b} = {a/b}\")\n",
    "print(f\"{a} // {b} = {a//b}\")\n",
    "print(f\"{a} % {b} = {a%b}\")"
   ]
  },
  {
   "cell_type": "code",
   "execution_count": null,
   "id": "337afa30-b197-4cec-bfcf-8b15313b282a",
   "metadata": {},
   "outputs": [],
   "source": [
    "# Ans 5\n",
    "a1 = complex(input('c1: '))\n",
    "b2 = complex(input('c2: '))\n",
    "print(f\"a1 + b2 = {a1 + b2}\")\n",
    "print(f\"a1 - b2 = {a1 - b2}\")\n",
    "print(f\"a1 * b2 = {a1 * b2}\")\n",
    "print(f\"a1 / b2 = {a1 / b2}\")"
   ]
  },
  {
   "cell_type": "code",
   "execution_count": null,
   "id": "da8d6ffe-96b2-4c1f-a5b3-e2c42c8d426d",
   "metadata": {},
   "outputs": [],
   "source": [
    "# Ans 6\n",
    "\n",
    "# Type Conversion Example\n",
    "a = 62\n",
    "print(f'converting to int: {int(a)} ,data type: {type(a)}')\n",
    "print(f'converting to float: {float(a)} ,data type: {type(float(a))}')\n",
    "print(f'converting to complex: {complex(a)} ,data type: {type(complex(a))}')\n"
   ]
  },
  {
   "cell_type": "code",
   "execution_count": null,
   "id": "908a0c9a-0925-439d-931d-ecf17dd655a2",
   "metadata": {},
   "outputs": [],
   "source": [
    "# Ans 7\n",
    "x = int(input(\"x: \"))\n",
    "print(f\"Decimal: {x} \")\n",
    "print(f\"Binary: {bin(x)} \")\n",
    "print(f\"Octal: {oct(x)} \")\n",
    "print(f\"Hexadecimal: {hex(x)}\")"
   ]
  },
  {
   "cell_type": "markdown",
   "id": "08e43417-85cf-4b9d-85ae-eddf98177bde",
   "metadata": {},
   "source": [
    "# Mathematical functions, Abs(), log() , ceil(), exp(), floor(), pow(),sqrt()"
   ]
  },
  {
   "cell_type": "code",
   "execution_count": null,
   "id": "b7307e19-434a-48c9-9948-addecfc67ce8",
   "metadata": {},
   "outputs": [],
   "source": [
    "# Ans 1\n",
    "import math\n",
    "num = float(input(\"num: \"))\n",
    "if num - int(num) >=.5:\n",
    "\tprint(\"result:\", math.ceil(num))\n",
    "else:\n",
    "\tprint(\"result:\", math.trunc(num))"
   ]
  },
  {
   "cell_type": "markdown",
   "id": "b6fb6b7f-72b5-4f34-9636-d9f04eaccf7c",
   "metadata": {},
   "source": [
    "# Random number function: Choice(), Randomrange(), Random(), Seed(), Shuffle(), Uniform()"
   ]
  },
  {
   "cell_type": "markdown",
   "id": "39db0336-154b-4a19-a933-ae0cdd82268c",
   "metadata": {},
   "source": [
    "### Ans 1\n",
    "random() function returns random values between 0.0 and 1.0 only.m"
   ]
  },
  {
   "cell_type": "markdown",
   "id": "febe102f-b742-4526-a3d2-6cc48cc2c3c3",
   "metadata": {},
   "source": [
    "# Date and Time functions"
   ]
  },
  {
   "cell_type": "markdown",
   "id": "d63045d6-752b-40ba-9810-5d1035427829",
   "metadata": {
    "tags": []
   },
   "source": [
    "### Ans 1\n",
    "The datetime module has many classes for manipulating dates and times.\n",
    "\n",
    "The implementation provided by datetime classes are very efficient for output formatting and manipulation of date and time.\n",
    "\n",
    "An aware object has information of algorithmic time adjustments, such as time zone and daylight saving time information.\n",
    "\n",
    "The tzinfo objects store information about the offset from UTC time."
   ]
  },
  {
   "cell_type": "code",
   "execution_count": null,
   "id": "ffe762df-dfc1-4750-ad0f-a2f160040d4e",
   "metadata": {},
   "outputs": [],
   "source": [
    "# Ans 2\n",
    "import datetime\n",
    "from datetime import date\n",
    "from datetime import timedelta\n",
    "d = input(\"date in yyyy-mm-dd format: \")\n",
    "\n",
    "days = int(input(\"days to add the current date: \"))\n",
    "\n",
    "year, month, day = d.split('-')\n",
    "d = datetime.date(int(year), int(month), int(day)) # converting string data into int \n",
    "d = d+timedelta(days)\n",
    "print(d)\n",
    "# print weekday using date.weekday() by passing d as argument\n",
    "print(\"weekday(0-6):\",date.weekday(d))\n",
    "\n",
    "# print date.isoweekday() by passing d as argument\n",
    "print(\"weekday(1-7):\",date.isoweekday(d))"
   ]
  },
  {
   "cell_type": "code",
   "execution_count": null,
   "id": "01904870-e7e1-46df-b158-1894492f19ca",
   "metadata": {},
   "outputs": [],
   "source": []
  },
  {
   "cell_type": "code",
   "execution_count": null,
   "id": "e7dd9db3-e182-49d0-a6b1-2bf2d09968f7",
   "metadata": {},
   "outputs": [],
   "source": []
  }
 ],
 "metadata": {
  "kernelspec": {
   "display_name": "Python 3 (ipykernel)",
   "language": "python",
   "name": "python3"
  },
  "language_info": {
   "codemirror_mode": {
    "name": "ipython",
    "version": 3
   },
   "file_extension": ".py",
   "mimetype": "text/x-python",
   "name": "python",
   "nbconvert_exporter": "python",
   "pygments_lexer": "ipython3",
   "version": "3.11.1"
  }
 },
 "nbformat": 4,
 "nbformat_minor": 5
}
