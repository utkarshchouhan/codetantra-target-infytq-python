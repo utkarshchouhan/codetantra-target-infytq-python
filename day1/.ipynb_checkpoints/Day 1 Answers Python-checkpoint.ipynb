{
 "cells": [
  {
   "cell_type": "markdown",
   "id": "25cfdb1a-824c-4c21-8012-81a7f0445bdb",
   "metadata": {},
   "source": [
    "# Python - Language Features"
   ]
  },
  {
   "cell_type": "code",
   "execution_count": 5,
   "id": "86b5282d-0b7d-4e5a-a068-585918e2e7b3",
   "metadata": {
    "tags": []
   },
   "outputs": [
    {
     "name": "stdout",
     "output_type": "stream",
     "text": [
      "Python is Easy\n"
     ]
    }
   ],
   "source": [
    "# Ans 4\n",
    "\n",
    "print(\"Python is Easy\") "
   ]
  },
  {
   "cell_type": "code",
   "execution_count": 6,
   "id": "49a4ee53-b39e-40e7-a900-6fc2cdade521",
   "metadata": {},
   "outputs": [
    {
     "name": "stdout",
     "output_type": "stream",
     "text": [
      "Python is not Typhoon\n"
     ]
    }
   ],
   "source": [
    "# Ans 5\n",
    "\n",
    "print(\"Python is not Typhoon\")"
   ]
  },
  {
   "cell_type": "code",
   "execution_count": 7,
   "id": "a3d42db4-f528-4282-9a5a-2c8843ab0fd2",
   "metadata": {},
   "outputs": [
    {
     "name": "stdout",
     "output_type": "stream",
     "text": [
      "AbracadabraAbracadabraAbracadabraAbracadabraAbracadabraAbracadabraAbracadabra\n"
     ]
    }
   ],
   "source": [
    "# Ans 6\n",
    "\n",
    "print(\"Abracadabra\"*7)"
   ]
  },
  {
   "cell_type": "code",
   "execution_count": 8,
   "id": "285f8729-70a8-465f-b4d0-fa62bc866a8c",
   "metadata": {},
   "outputs": [
    {
     "name": "stdout",
     "output_type": "stream",
     "text": [
      "where there is a will, there is a way\n"
     ]
    }
   ],
   "source": [
    "# Ans 7\n",
    "\n",
    "print(\"wh\" \"ere\", \"the\" \"re\", \"is\" ,\"a\" ,\"will,\" ,\"th\"\"ere\", \"is\" ,\"a\", \"way\")"
   ]
  },
  {
   "cell_type": "markdown",
   "id": "6515a6aa-1062-43cb-91bc-bb95459b8f31",
   "metadata": {
    "tags": []
   },
   "source": [
    "# Comments\n"
   ]
  },
  {
   "cell_type": "code",
   "execution_count": 10,
   "id": "ce1f362e-8942-47df-8f18-51264d01968f",
   "metadata": {},
   "outputs": [
    {
     "name": "stdout",
     "output_type": "stream",
     "text": [
      "I am a Python Guru\n"
     ]
    }
   ],
   "source": [
    "# Ans 1\n",
    "\n",
    "# This is my first program\n",
    "print(\"I am a Python Guru\")\n",
    "# print(\"Python is not cool\")\n",
    "# print() is used to print the message on console"
   ]
  },
  {
   "cell_type": "code",
   "execution_count": 12,
   "id": "3f48012c-c4d1-4872-bb26-cd1b6f8d7333",
   "metadata": {},
   "outputs": [
    {
     "name": "stdout",
     "output_type": "stream",
     "text": [
      "1\n",
      "3\n",
      "5\n",
      "7\n",
      "9\n",
      "11\n",
      "13\n"
     ]
    }
   ],
   "source": [
    "# Ans 2\n",
    "\n",
    "print(\"1\")\n",
    "# print(\"2\")\n",
    "print(\"3\")\n",
    "# print(\"4\")\n",
    "print(\"5\")\n",
    "#print(\"6\")\n",
    "print(\"7\")\n",
    "#print(\"8\")\n",
    "print(\"9\")\n",
    "# print(\"10\")\n",
    "print(\"11\")\n",
    "# print(\"12\")\n",
    "print(\"13\")"
   ]
  },
  {
   "cell_type": "code",
   "execution_count": 14,
   "id": "99d1a146-a010-473a-8ca5-24d831a7997b",
   "metadata": {},
   "outputs": [
    {
     "name": "stdout",
     "output_type": "stream",
     "text": [
      "Return sum of given arguments.\n",
      "Return the power value.\n",
      "\t\n",
      "\tb -- is the base\n",
      "\te -- is the exponent\n",
      "\t\n"
     ]
    }
   ],
   "source": [
    "# Ans 3\n",
    "\n",
    "def add(a, b):\n",
    "\t\"\"\"Return sum of given arguments.\"\"\"\n",
    "\treturn a + b\n",
    "print(add.__doc__)\n",
    "def power(b, e):\n",
    "\t\"\"\"Return the power value.\n",
    "\t\n",
    "\tb -- is the base\n",
    "\te -- is the exponent\n",
    "\t\"\"\"\n",
    "\treturn b ** e\n",
    "print(power.__doc__)"
   ]
  },
  {
   "cell_type": "markdown",
   "id": "1eb74231-b957-4f89-90e7-b47830604acc",
   "metadata": {},
   "source": [
    "# Identifiers and Keywords"
   ]
  },
  {
   "cell_type": "code",
   "execution_count": 15,
   "id": "a64d9893-688a-46f7-a53f-f8fa9e8253ba",
   "metadata": {},
   "outputs": [
    {
     "name": "stdout",
     "output_type": "stream",
     "text": [
      "and is a keyword : True\n",
      "exec is a keyword : False\n",
      "nonlocal is a keyword : True\n",
      "False is a keyword : True\n"
     ]
    }
   ],
   "source": [
    "# Ans 3\n",
    "\n",
    "import keyword\n",
    "print('and is a keyword :', keyword.iskeyword('and'))\n",
    "\n",
    "#Fill in the missing code in the below lines\n",
    "print('exec is a keyword :',keyword.iskeyword('e'))\n",
    "print('nonlocal is a keyword :', keyword.iskeyword('nonlocal'))\n",
    "print('False is a keyword :', keyword.iskeyword('False'))"
   ]
  },
  {
   "cell_type": "markdown",
   "id": "b8f22165-4892-401f-96b6-db5e906af1ed",
   "metadata": {},
   "source": [
    "# Dynamic typing and Case sensitiveness"
   ]
  },
  {
   "cell_type": "code",
   "execution_count": null,
   "id": "eddb3336-77c5-4e51-8468-980c54aa2977",
   "metadata": {},
   "outputs": [],
   "source": []
  },
  {
   "cell_type": "code",
   "execution_count": null,
   "id": "0c419c0f-ad78-4030-b043-a999a3a2c17c",
   "metadata": {},
   "outputs": [],
   "source": []
  },
  {
   "cell_type": "markdown",
   "id": "41dd57e7-8388-4de1-b79c-5308ef7a648a",
   "metadata": {},
   "source": [
    "# Immutable - String, Tuple"
   ]
  },
  {
   "cell_type": "code",
   "execution_count": 2,
   "id": "867cb887-7de6-4334-995b-5ef5640341cc",
   "metadata": {},
   "outputs": [
    {
     "name": "stdin",
     "output_type": "stream",
     "text": [
      "str:  rq\n"
     ]
    },
    {
     "name": "stdout",
     "output_type": "stream",
     "text": [
      "rq\n"
     ]
    }
   ],
   "source": [
    "# Ans 1\n",
    "\n",
    "print(input(\"str: \"))"
   ]
  },
  {
   "cell_type": "code",
   "execution_count": 1,
   "id": "93d7b72c-f582-43df-80e0-4c774e4b260f",
   "metadata": {},
   "outputs": [
    {
     "name": "stdin",
     "output_type": "stream",
     "text": [
      "k:  1\n"
     ]
    },
    {
     "name": "stdout",
     "output_type": "stream",
     "text": [
      "0 even number\n"
     ]
    }
   ],
   "source": []
  },
  {
   "cell_type": "markdown",
   "id": "e0c5ebb0-b565-4fa3-893a-15239821b1da",
   "metadata": {},
   "source": [
    "# List - Empty, Append"
   ]
  },
  {
   "cell_type": "code",
   "execution_count": null,
   "id": "15260780-d32d-4422-ba7d-5a80e71c5dce",
   "metadata": {},
   "outputs": [],
   "source": [
    "# Ans 1\n",
    "\n",
    "i = ord(input('Please enter A in upper case: '))\n",
    "j = ord(input('Please enter A in lower case: '))\n",
    "\n",
    "alpha = []\n",
    "for k in range(26):\n",
    "\talpha.append(chr(i))\n",
    "\talpha.append(chr(j))\n",
    "\ti += 1\n",
    "\tj += 1\n",
    "print(alpha)"
   ]
  },
  {
   "cell_type": "code",
   "execution_count": null,
   "id": "228e89df-38da-4499-8b55-e4ff5a97c7ed",
   "metadata": {},
   "outputs": [],
   "source": [
    "# Ans 2\n",
    "\n",
    "lis = []\n",
    "size = int(input(\"size: \"))\n",
    "for i in range(size):\n",
    "\tlis.append(input('element: '))\n",
    "\n",
    "print(f\"list: {lis}\")"
   ]
  },
  {
   "cell_type": "code",
   "execution_count": null,
   "id": "67e85b8e-0974-4392-a37e-5ac850892c98",
   "metadata": {},
   "outputs": [],
   "source": [
    "# Ans 3\n",
    "\n",
    "data1 = list(map(str,input('data1: ').split(\",\")))\n",
    "element = input('element: ')\n",
    "data1.append(element)\n",
    "print(f'after append: {data1}')\n",
    "\n",
    "\n",
    "data2 = list(map(str,input('data2: ').split(\",\")))\n",
    "data1.append(data2)\n",
    "print(f'after append: {data1}')\n",
    "data1.extend(data2)\n",
    "print(f'after extending: {data1}')"
   ]
  },
  {
   "cell_type": "code",
   "execution_count": null,
   "id": "6a154ccc-2ee6-486f-b92b-2fa051e10e92",
   "metadata": {},
   "outputs": [],
   "source": [
    "# Ans 4\n",
    "\n",
    "L1 = [int(s) for s in input().split(' ')]\n",
    "L2 = []\n",
    "temp = L1\n",
    "for i in range(len(temp)-1,-1,-1):\n",
    "\tL2.append(L1[i])\n",
    "L1.extend(L2)\n",
    "print(L2)\n",
    "print(L1)"
   ]
  },
  {
   "cell_type": "code",
   "execution_count": null,
   "id": "5dea754b-57fe-4843-9503-e7be85d5090e",
   "metadata": {},
   "outputs": [],
   "source": [
    "# Ans 5\n",
    "\n",
    "L1 = [int(s) for s in input().split(' ')]\n",
    "L2 = []\n",
    "temp = L1\n",
    "for i in range(len(temp)-1,-1,-1):\n",
    "\tL2.append(L1[i])\n",
    "L1.extend(L2)\n",
    "\n",
    "print(L2)\n",
    "print(L1)"
   ]
  },
  {
   "cell_type": "code",
   "execution_count": null,
   "id": "70d9de6a-51d7-47bb-a8f0-8d844662579c",
   "metadata": {},
   "outputs": [],
   "source": [
    "# Ans 6\n",
    "\n",
    "L1 = [int(s) for s in input().split(' ')]\n",
    "L2 = []\n",
    "temp = L1\n",
    "for i in range(len(temp),0,-1):\n",
    "\tL2.append(L1[i-1])\n",
    "L1.extend(L2)\n",
    "print(L2)\n",
    "print(L1)"
   ]
  },
  {
   "cell_type": "markdown",
   "id": "94aa5708-ba7a-460d-97ff-7d5e74b923cf",
   "metadata": {},
   "source": [
    "# Arithmetic & Logical Operators"
   ]
  },
  {
   "cell_type": "code",
   "execution_count": null,
   "id": "4665d5e2-57fe-4a6d-a0bc-d44138730fd5",
   "metadata": {},
   "outputs": [],
   "source": [
    "# Ans 1\n",
    "\n"
   ]
  },
  {
   "cell_type": "code",
   "execution_count": null,
   "id": "122c8ccb-4a36-4867-aa21-f7abdcef3e2a",
   "metadata": {},
   "outputs": [],
   "source": [
    "# Ans 2\n",
    "\n",
    "num1 = int(input(\"num1: \"))\n",
    "num2 = int(input(\"num2: \"))\n",
    "\n",
    "print(f\"{num1} + {num2} = {num1+num2}\")\n",
    "print (f\"{num1} - {num2} = {num1-num2}\")\n",
    "print (f\"{num1} * {num2} = {num1*num2}\")\n",
    "print (f\"{num1} / {num2} = {num1/num2}\")\n",
    "print (f\"{num1} ** {num2} = {num1**num2}\")\n",
    "print (f\"{num1} % {num2} = {num1%num2}\")\n",
    "print (f\"{num1} // {num2} = {num1//num2}\")"
   ]
  },
  {
   "cell_type": "code",
   "execution_count": null,
   "id": "d7ccf7b7-a4c8-4c8c-8cf8-09bcf7e7c211",
   "metadata": {},
   "outputs": [],
   "source": [
    "# Ans 3\n",
    "\n",
    "num1 = int(input (\"num1: \"))\n",
    "num2 = int(input (\"num2: \"))\n",
    "\n",
    "print(f\"Addition of {num1} and {num2} = {num1 + num2}\")\n",
    "print(f\"Subtraction of {num1} and {num2} = {num1 - num2}\")\n",
    "print(f\"Multiplication of {num1} and {num2} = {num1 * num2}\")\n",
    "print(f\"Division of {num1} and {num2} = {num1 / num2}\")"
   ]
  },
  {
   "cell_type": "code",
   "execution_count": null,
   "id": "acb15e92-3b82-414a-a8ad-a3f6d4f8ac3c",
   "metadata": {},
   "outputs": [],
   "source": [
    "# Ans 4\n",
    "\n",
    "num1 = int(input(\"num1: \"))\n",
    "num2 = int(input(\"num2: \"))\n",
    "\n",
    "print(f\"Exponent of {num1} with {num2} = {num1**num2}\")\n",
    "print(f\"Modulus of {num1} and {num2} = {num1%num2}\")\n",
    "print(f\"Floor Division of {num1} and {num2} = {num1//num2}\")"
   ]
  },
  {
   "cell_type": "code",
   "execution_count": null,
   "id": "38db422c-d1c8-40a0-9d9f-dcfd29fb00a6",
   "metadata": {},
   "outputs": [],
   "source": [
    "# Ans 5\n",
    "\n",
    "num1 = int(input(\"num1: \"))\n",
    "num2 = int(input(\"num2: \"))\n",
    "\n",
    "print(f\"Exponent of {num1} with {num2} = {num1**num2}\")\n",
    "print(f\"Modulus of {num1} and {num2} = {num1%num2}\")\n",
    "print(f\"Floor Division of {num1} and {num2} = {num1//num2}\")"
   ]
  },
  {
   "cell_type": "code",
   "execution_count": null,
   "id": "7357230a-f267-4a23-9b3c-0df622a242fb",
   "metadata": {},
   "outputs": [],
   "source": [
    "# Ans 6\n",
    "\n",
    "num1 = int(input(\"num1: \"))\n",
    "num2 = int(input(\"num2: \"))\n",
    "x,y = divmod(num1,num2)\n",
    "print((num1), '//', (num2), '=', (x))\n",
    "print((num1), '%', (num2), '=', (y))"
   ]
  },
  {
   "cell_type": "code",
   "execution_count": null,
   "id": "0489c1eb-923b-4bf7-ad8e-d6ae688417d0",
   "metadata": {},
   "outputs": [],
   "source": [
    "# Ans 7\n",
    "\n"
   ]
  },
  {
   "cell_type": "code",
   "execution_count": null,
   "id": "c7c71317-9722-44c6-9fde-8e8de5e5c22b",
   "metadata": {},
   "outputs": [],
   "source": [
    "# Ans 8\n",
    "\n",
    "a = int(input(\"a: \"))\n",
    "b = int(input(\"b: \"))\n",
    "c = int(input(\"c: \"))\n",
    "if a == 6 and b ==6 and c != 6:\n",
    "\tprint(True)\n",
    "else:\n",
    "\tprint(False)"
   ]
  },
  {
   "cell_type": "code",
   "execution_count": null,
   "id": "1709eb05-40d8-40f7-8b7e-5161b464b40d",
   "metadata": {},
   "outputs": [],
   "source": [
    "# Ans 9\n",
    "\n",
    "a = int(input(\"a: \"))\n",
    "b = int(input(\"b: \"))\n",
    "\n",
    "if a == 6 or b == 6 or (a+b) == 6 or (a-b) ==6:\n",
    "\tprint(True)\n",
    "else:\n",
    "\tprint(False)"
   ]
  },
  {
   "cell_type": "code",
   "execution_count": null,
   "id": "d85d816f-da9b-4f74-b609-88d13cc7dc1c",
   "metadata": {},
   "outputs": [],
   "source": [
    "# Ans 10\n",
    "\n",
    "day = input(\"Enter day: \")\n",
    "if day == \"SAT\" or day == \"SUN\":\n",
    "\tprint(\"Weekend\")\n",
    "else:\n",
    "\tprint(\"Not Weekend\")"
   ]
  },
  {
   "cell_type": "markdown",
   "id": "afdec5cf-1ef1-4eeb-b1b3-70156c4d2424",
   "metadata": {},
   "source": [
    "# Comparison (Relational) & Assignment Operators"
   ]
  },
  {
   "cell_type": "code",
   "execution_count": null,
   "id": "decdd1e8-b322-4d1c-9f09-7f6870afb88c",
   "metadata": {},
   "outputs": [],
   "source": [
    "# Ans 1\n",
    "\n",
    "num1 = int(input(\"num1: \"))\n",
    "num2 = int(input(\"num2: \"))\n",
    "\n",
    "print(f\"Is {num1} greater than {num2} = {num1>num2}\")\n",
    "print(f\"Is {num1} less than {num2} = {num1<num2}\")\n",
    "print(f\"Is {num1} equal to {num2} = {num1==num2}\")\n",
    "print(f\"Is {num1} not equal to {num2} = {num1!=num2}\")\n",
    "print(f\"Is {num1} less than or equal to {num2} = {num1 <=num2}\")\n",
    "print(f\"Is {num1} greater than or equal to {num2} = {num1>=num2}\")"
   ]
  },
  {
   "cell_type": "code",
   "execution_count": null,
   "id": "12b0c302-c00f-463d-ae1e-baddf7c15ec8",
   "metadata": {},
   "outputs": [],
   "source": [
    "# Ans 2 \n",
    "\n",
    "# Comparision Operators >, <, ==, !=, >=, <= on numbers\n",
    "num1 = int(input(\"num1: \"))\n",
    "num2 = int(input(\"num2: \"))\n",
    "print(f\"Is {num1} greater than {num2} = {num1 > num2}\")\n",
    "print(f\"Is {num1} less than {num2} = {num1 < num2}\")\n",
    "print(f\"Is {num1} equal to {num2} = {num1 == num2}\")\n",
    "print(f\"Is {num1} not equal to {num2} = {num1 != num2}\")\n",
    "print(f\"Is {num1} greater than or equal to {num2} = {num1 >= num2}\")\n",
    "print(f\"Is {num1} less than or equal to {num2} = {num1 <= num2}\")"
   ]
  },
  {
   "cell_type": "code",
   "execution_count": null,
   "id": "fe614096-3b5d-4c4b-a7a3-a5c803662e53",
   "metadata": {},
   "outputs": [],
   "source": [
    "# Ans 3\n",
    "\n",
    "str1 = input(\"str1: \")\n",
    "str2 = input(\"str2: \")\n",
    "\n",
    "print(f\"Is {str1} greater than {str2} = {str1 > str2}\")\n",
    "print(f\"Is {str1} less than {str2} = {str1 < str2}\")\n",
    "print(f\"Is {str1} equal to {str2} = {str1 == str2}\")\n",
    "print(f\"Is {str1} not equal to {str2} = {str1 != str2}\")\n",
    "print(f\"Is {str1} greater than or equal to {str2} = {str1 >= str2}\")\n",
    "print(f\"Is {str1} less than or equal to {str2} = {str1 <= str2}\")"
   ]
  },
  {
   "cell_type": "code",
   "execution_count": null,
   "id": "34af0643-0a7f-4605-b4aa-7ef9d7f6e809",
   "metadata": {},
   "outputs": [],
   "source": [
    "# Ans 4\n",
    "\n",
    "str1 = input(\"str1: \")\n",
    "str2 = input(\"str2: \")\n",
    "print(f\"Is {str1} greater than {str2} = {str1 > str2}\")\n",
    "print(f\"Is {str1} less than {str2} = {str1 < str2}\")\n",
    "print(f\"Is {str1} equal to {str2} = {str1 == str2}\")\n",
    "print(f\"Is {str1} not equal to {str2} = {str1 != str2}\")\n",
    "print(f\"Is {str1} greater than or equal to {str2} = {str1 >= str2}\")\n",
    "print(f\"Is {str1} less than or equal to {str2} = {str1 <= str2}\")\n",
    "\n",
    "# Print Is str1 less than str2\n",
    "# Print Is str1 is equal to str2\n",
    "# Print Is str1 not equal to str2\n",
    "# Print Is str1 greater than or equal to str2\n",
    "# Print Is str1 less than or equal to str2"
   ]
  },
  {
   "cell_type": "code",
   "execution_count": null,
   "id": "2fd50e94-5e15-4ee0-aa23-b7b5f60b18f3",
   "metadata": {},
   "outputs": [],
   "source": [
    "# Ans 5\n",
    "\n",
    "x = int(input(\"x: \"))\n",
    "y = int(input(\"y: \"))\n",
    "\n",
    "print(f\"x += y: x = {x + y} and y = {y}\")\n",
    "print(f\"x -= y: x = {x - y} and y = {y}\")\n",
    "print(f\"x *= y: x = {x * y} and y = {y}\")\n",
    "print(f\"x /= y: x = {x / y} and y = {y}\")\n",
    "print(f\"x **= y: x = {x ** y} and y = {y}\")\n",
    "print(f\"x //= y: x = {x // y} and y = {y}\")\n",
    "print(f\"x %= y: x = {x % y} and y = {y}\")\n",
    "print(f\"x = y: x = {y} and y = {y}\")"
   ]
  },
  {
   "cell_type": "code",
   "execution_count": null,
   "id": "210caa7c-055e-4e72-9117-d16d326c70b1",
   "metadata": {},
   "outputs": [],
   "source": [
    "# Ans 6\n",
    "\n",
    "x = int(input(\"x: \"))\n",
    "y =int(input(\"y: \"))\n",
    "print(f\"x = y: {y}\")\n",
    "print(f\"x += y: {x+y}\")\n",
    "print(f\"x -= y: {x-y}\")\n",
    "print(f\"x *= y: {x*y}\")"
   ]
  },
  {
   "cell_type": "code",
   "execution_count": null,
   "id": "441ab6aa-eb7b-464e-b571-8b842af87c60",
   "metadata": {},
   "outputs": [],
   "source": [
    "# Ans 7\n",
    "\n",
    "x = int(input(\"x: \"))\n",
    "y = int(input(\"y: \"))\n",
    "print('x /= y:' , x/y)\n",
    "print ('x %= y:' , x%y)\n",
    "print ('x **= y:' , x**y)\n",
    "print ('x //= y:' , x//y)"
   ]
  },
  {
   "cell_type": "markdown",
   "id": "351a08c5-2a89-4cb2-9d08-a71f07b325cc",
   "metadata": {},
   "source": [
    "# Membership & Identity Operators"
   ]
  },
  {
   "cell_type": "code",
   "execution_count": null,
   "id": "9390405c-88de-47da-a1c7-d2a0235fecdd",
   "metadata": {},
   "outputs": [],
   "source": [
    "# Ans 1"
   ]
  },
  {
   "cell_type": "code",
   "execution_count": 1,
   "id": "3e057f3b-6bd8-4649-ba39-1f4c77ab8575",
   "metadata": {},
   "outputs": [],
   "source": [
    "# Ans 2\n",
    "\n",
    "str1 = input(\"str1: \")\n",
    "str2 = input(\"str2: \")\n",
    "print(f\"{str2} in {str1} : {str2 in str1}\")"
   ]
  },
  {
   "cell_type": "code",
   "execution_count": null,
   "id": "85dab5b5-bf86-4707-94c4-d0849f9608dd",
   "metadata": {},
   "outputs": [],
   "source": [
    "# Ans 3\n",
    "\n",
    "str1 = input(\"str1: \")\n",
    "str2 = input(\"str2: \")\n",
    "print(f\"{str2} in {str1} is: {str2 in str1}\")\n",
    "print(f\"{str2} not in {str1} is: {str2 not in str1}\")"
   ]
  },
  {
   "cell_type": "code",
   "execution_count": null,
   "id": "27fa80f6-4b8f-4c41-9ea7-4a630531158b",
   "metadata": {},
   "outputs": [],
   "source": [
    "# Ans 4\n",
    "\n",
    "# Program to illustrate membership\n",
    "L1 = ['A', '123', 'Ramana', [1, 2], 34.56, '55']\n",
    "# for 34.56 returns False as output because input() return type is True so it converts 34.56 as string.\n",
    "print(L1)\n",
    "# write your code here\n",
    "element = input(\"element: \")\n",
    "print(f\"{element} in {L1} is: {element in L1}\")\n",
    "print(f\"{element} not in {L1} is: {element not in L1}\")"
   ]
  },
  {
   "cell_type": "code",
   "execution_count": null,
   "id": "a2ac9b13-2e62-4952-a872-7b46b68cfad2",
   "metadata": {},
   "outputs": [],
   "source": [
    "# Ans 6\n",
    "\n",
    "x = int(input(\"Enter an integer: \"))\n",
    "y = int(input(\"Enter the same integer: \"))\n",
    "print(f\"x is y {x is y}\")\n",
    "print(f\"x is not y {x is not y}\")\n",
    "\n",
    "\n",
    "\n",
    "x = float(input(\"Enter a Float Number: \"))\n",
    "y = float(input(\"Enter the same Number: \"))\n",
    "print(f\"x is y {x is y}\")\n",
    "print(f\"x is not y {x is not y}\")\n"
   ]
  },
  {
   "cell_type": "code",
   "execution_count": null,
   "id": "ae5be9cf-c29b-43a6-8180-039d958b09b8",
   "metadata": {},
   "outputs": [],
   "source": [
    "# Ans 7 \n",
    "\n",
    "x = int(input(\"x: \"))\n",
    "y = int(input(\"y: \"))\n",
    "print(f\"{x} is {y} {x is y}\")"
   ]
  },
  {
   "cell_type": "code",
   "execution_count": null,
   "id": "8312d7dd-99ce-4c87-8480-7909e6428dd4",
   "metadata": {},
   "outputs": [],
   "source": [
    "# Ans 8 \n",
    "\n",
    "x = int(input(\"x: \"))\n",
    "y = int(input(\"y: \"))\n",
    "print(f\"{x} is not {y} {x is not y}\")"
   ]
  },
  {
   "cell_type": "markdown",
   "id": "4499e1de-3b88-4b1c-a4f9-6f3e25068759",
   "metadata": {},
   "source": [
    "# Boundary Value Analysis"
   ]
  },
  {
   "cell_type": "code",
   "execution_count": null,
   "id": "e7e413d6-3a8a-426b-b0e6-c5fdee4d9ec8",
   "metadata": {},
   "outputs": [],
   "source": []
  },
  {
   "cell_type": "markdown",
   "id": "20250874-a1fb-4039-8b19-f9421e39e081",
   "metadata": {},
   "source": [
    "# Iteration Control Structures"
   ]
  },
  {
   "cell_type": "code",
   "execution_count": null,
   "id": "8f23fd93-12fc-4d7d-bf69-7130cdfaa327",
   "metadata": {},
   "outputs": [],
   "source": []
  },
  {
   "cell_type": "markdown",
   "id": "609b5c0d-e46d-4f40-b9a2-448629f133fc",
   "metadata": {},
   "source": [
    "# Introduction to Debugging"
   ]
  },
  {
   "cell_type": "code",
   "execution_count": null,
   "id": "7b75b7cb-94cf-471f-9189-28d138836400",
   "metadata": {},
   "outputs": [],
   "source": []
  },
  {
   "cell_type": "markdown",
   "id": "3ef1ceda-f5b6-4c77-aafd-5c856217659a",
   "metadata": {},
   "source": [
    "# Introduction to Collections"
   ]
  },
  {
   "cell_type": "code",
   "execution_count": null,
   "id": "06aaaefc-0b36-4ccf-b3fc-e4a18c553226",
   "metadata": {},
   "outputs": [],
   "source": []
  },
  {
   "cell_type": "markdown",
   "id": "2430d695-af13-48c3-bd8e-cdc9ebebec8b",
   "metadata": {},
   "source": [
    "# Implicit/Explicit Type conversions"
   ]
  },
  {
   "cell_type": "code",
   "execution_count": null,
   "id": "4a029cc3-b4dc-4169-a08d-48785089d33e",
   "metadata": {},
   "outputs": [],
   "source": []
  },
  {
   "cell_type": "code",
   "execution_count": null,
   "id": "4f8a62d3-4104-499e-b3ca-d6fb0a102d6e",
   "metadata": {},
   "outputs": [],
   "source": []
  },
  {
   "cell_type": "code",
   "execution_count": null,
   "id": "2ee9fe3b-6f04-4e87-982e-64211fa4f01c",
   "metadata": {},
   "outputs": [],
   "source": []
  },
  {
   "cell_type": "code",
   "execution_count": null,
   "id": "fd655b61-5643-4324-a210-e78a3b2a1f71",
   "metadata": {},
   "outputs": [],
   "source": []
  },
  {
   "cell_type": "code",
   "execution_count": null,
   "id": "9ae0bb89-272b-49ad-92c8-8bef5fd8d34e",
   "metadata": {},
   "outputs": [],
   "source": []
  },
  {
   "cell_type": "code",
   "execution_count": null,
   "id": "ed1ea698-92ec-4c65-a38d-a3433737b22a",
   "metadata": {},
   "outputs": [],
   "source": []
  },
  {
   "cell_type": "code",
   "execution_count": null,
   "id": "10695c72-e986-4247-ae24-f1d527c9a79b",
   "metadata": {},
   "outputs": [],
   "source": []
  },
  {
   "cell_type": "code",
   "execution_count": null,
   "id": "498e7d5d-d374-48ca-be78-e2ec33b8847d",
   "metadata": {},
   "outputs": [],
   "source": []
  },
  {
   "cell_type": "markdown",
   "id": "7831eb07-4c90-4859-88c2-e8447e844b58",
   "metadata": {},
   "source": [
    "# If statement, If-Else & Nested If-else"
   ]
  },
  {
   "cell_type": "code",
   "execution_count": null,
   "id": "8aba08c0-4b65-4e50-bb60-0a11f908b4a4",
   "metadata": {},
   "outputs": [],
   "source": []
  },
  {
   "cell_type": "code",
   "execution_count": null,
   "id": "7e9ccac3-bd1d-4212-bdb4-c275258e7728",
   "metadata": {},
   "outputs": [],
   "source": []
  },
  {
   "cell_type": "code",
   "execution_count": null,
   "id": "028fd3bb-6967-47c5-abd9-3e18f46ef126",
   "metadata": {},
   "outputs": [],
   "source": []
  },
  {
   "cell_type": "code",
   "execution_count": null,
   "id": "fd8bc61d-2998-4310-9922-b71d2315a536",
   "metadata": {},
   "outputs": [],
   "source": []
  },
  {
   "cell_type": "code",
   "execution_count": null,
   "id": "abf9df68-924a-47dc-9897-4be3dd08b6b7",
   "metadata": {},
   "outputs": [],
   "source": []
  },
  {
   "cell_type": "code",
   "execution_count": null,
   "id": "d1314b5b-96a5-459e-a942-918536720478",
   "metadata": {},
   "outputs": [],
   "source": []
  },
  {
   "cell_type": "code",
   "execution_count": null,
   "id": "81664650-b820-420a-926a-e6023e660538",
   "metadata": {},
   "outputs": [],
   "source": []
  },
  {
   "cell_type": "code",
   "execution_count": null,
   "id": "a99d0422-78f8-40b8-8d18-8893aeea08ee",
   "metadata": {},
   "outputs": [],
   "source": []
  },
  {
   "cell_type": "code",
   "execution_count": null,
   "id": "99e8f3c3-4f8c-4473-8765-ed00e651524b",
   "metadata": {},
   "outputs": [],
   "source": []
  },
  {
   "cell_type": "markdown",
   "id": "309f4bd9-b0f8-4d1e-b93e-58f2fd295aa1",
   "metadata": {},
   "source": [
    "# Control Statement - While, For, Nested While, Nested for, Break, Continue"
   ]
  },
  {
   "cell_type": "code",
   "execution_count": null,
   "id": "3f0095f5-ad65-4a17-957a-172bb936b84b",
   "metadata": {},
   "outputs": [],
   "source": [
    "# Ans 1\n",
    "\n",
    "sum1 = 0\n",
    "num = int(input(\"num: \"))\n",
    "while num > 0:\n",
    "\tif num % 2 == 0:\n",
    "\t\tsum1 += num\n",
    "\t\n",
    "\tnum -= 1\n",
    "print(\"sum:\",sum1)"
   ]
  },
  {
   "cell_type": "code",
   "execution_count": null,
   "id": "0f6255a8-eb14-4599-8926-2f661919a5a2",
   "metadata": {},
   "outputs": [],
   "source": [
    "# Ans 2\n",
    "\n",
    "x = int(input(\"k: \"))\n",
    "y = 0\n",
    "while y < x:\n",
    "\tif y % 2 == 0:\n",
    "\t\tprint(y,\"even number\")\n",
    "\t\ty += 1\n",
    "\telse:\n",
    "\t\tprint(y,\"odd number\")\n",
    "\t\ty += 1"
   ]
  },
  {
   "cell_type": "code",
   "execution_count": 1,
   "id": "d5cc2480-c73b-4226-9c93-8fe52a5d62aa",
   "metadata": {},
   "outputs": [
    {
     "name": "stdin",
     "output_type": "stream",
     "text": [
      "num:  4\n"
     ]
    },
    {
     "name": "stdout",
     "output_type": "stream",
     "text": [
      "sum: 10\n"
     ]
    }
   ],
   "source": [
    "# Ans 3\n",
    "\n",
    "num = int(input(\"num: \"))\n",
    "if num >= 0 :\n",
    "\tprint(f\"sum: {(num*(num+1))//2}\")\n",
    "else:\n",
    "\tprint(f\"sum: -{(num*(num-1))//2}\")"
   ]
  },
  {
   "cell_type": "code",
   "execution_count": null,
   "id": "ba98621a-e9ce-4b7f-aa6e-4c5ce863501a",
   "metadata": {},
   "outputs": [],
   "source": [
    "# Ans 4\n",
    "\n",
    "# make use of while loop\n",
    "\n",
    "\n",
    "n = int(input())\n",
    "y = 1\n",
    "\n",
    "while(y != n+1):\n",
    "\tprint(y*2, end = \" \")\n",
    "\ty += 1"
   ]
  },
  {
   "cell_type": "code",
   "execution_count": null,
   "id": "f6b1591b-f11d-4a1e-87ae-df6108b6f02e",
   "metadata": {},
   "outputs": [],
   "source": [
    "# Ans 5\n",
    "\n",
    "# make use of while loop\n",
    "n = int(input())\n",
    "sum1 = 0\n",
    "\n",
    "while(n != 0):\n",
    "\tsum1 += n\n",
    "\tn -= 1\n",
    "\n",
    "print(sum1)"
   ]
  },
  {
   "cell_type": "code",
   "execution_count": null,
   "id": "45691a88-feff-493a-98f8-9569f857c74c",
   "metadata": {},
   "outputs": [],
   "source": [
    "# Ans 6\n",
    "\n",
    "#Program to illustrate simple for loop\n",
    "numbers = [1, 10, 20, 30, 40, 50]\n",
    "sum = 0\n",
    "#  Find sum of all the numbers using for loop \n",
    "for i in numbers:\n",
    "\tsum += i\n",
    "\n",
    "print (\"The sum of numbers is\", sum ) # print sum here\n",
    "\n",
    "\n",
    "colors = ['red', 'orange', 'green', 'yellow', 'white', 'violet']\n",
    "\n",
    "\n",
    "# Similarly iterate over the given colors and print the colors\n",
    "for i in colors:\n",
    "\tprint(i)"
   ]
  },
  {
   "cell_type": "code",
   "execution_count": null,
   "id": "4d1d1ed1-f345-4156-a4ff-77c934781597",
   "metadata": {},
   "outputs": [],
   "source": [
    "# Ans 7\n",
    "\n",
    "n = int(input(\"Enter a number: \"))\n",
    "ans = 0\n",
    "for i in range(1,n+1):\n",
    "\tans += i**2\n",
    "\n",
    "print(\"Sum of square =\",ans)"
   ]
  },
  {
   "cell_type": "code",
   "execution_count": null,
   "id": "e5710dae-92d0-4064-ac8b-01e8d4385e88",
   "metadata": {},
   "outputs": [],
   "source": [
    "# Ans 8\n",
    "\n",
    "x = int(input(\"Lower limit: \"))\n",
    "y = int(input(\"Upper limit: \"))\n",
    "print(\"Prime numbers are: \")\n",
    "\n",
    "def isPrime(i):\n",
    "\tfor a in range(2,i):\n",
    "\t\tif i % a == 0:\n",
    "\t\t\treturn False\n",
    "\telse:\n",
    "\t\treturn True\n",
    "\t\n",
    "\t\n",
    "\t\n",
    "for i in range(x,y):\n",
    "\tif isPrime(i):\n",
    "\t\tprint(i)"
   ]
  },
  {
   "cell_type": "code",
   "execution_count": null,
   "id": "b7767bc1-b2e0-4a59-83ec-fd94ddb51978",
   "metadata": {},
   "outputs": [],
   "source": [
    "# Ans 9\n",
    "\n",
    "l = int(input(\"Lower range: \"))\n",
    "u = int(input(\"Upper range: \"))\n",
    "a = []\n",
    "for n in range(l,u+1):\n",
    "\ti = 1\n",
    "\tsq = int(n**(0.5))\n",
    "\tif sq*sq == n:\n",
    "\t\ta.append(n)\n",
    "\telse:\n",
    "\t\ti += 1\n",
    "\n",
    "\n",
    "print(\"Perfect squares are: \")\n",
    "for i in a:\n",
    "\tprint(i,end=\" \")"
   ]
  },
  {
   "cell_type": "code",
   "execution_count": null,
   "id": "7c0d0e47-1902-47c7-90a2-9218b92fd08f",
   "metadata": {},
   "outputs": [],
   "source": [
    "# Ans 10\n",
    "\n",
    "n = int(input(\"n: \"))#f# Write your code here\n",
    "for i in range(1,n+1):\n",
    "\tprint(\"* \"*i)"
   ]
  },
  {
   "cell_type": "code",
   "execution_count": null,
   "id": "f1e44d3e-44ce-46c5-83d0-5556d4756a7f",
   "metadata": {},
   "outputs": [],
   "source": [
    "# Ans 11\n",
    "\n"
   ]
  },
  {
   "cell_type": "code",
   "execution_count": null,
   "id": "3f7bf43e-1749-45d0-8613-a66572c7919d",
   "metadata": {},
   "outputs": [],
   "source": [
    "# Ans 12\n",
    "\n",
    "for num in range(1, 10):\n",
    "\tif num % 5 == 0:\n",
    "\t\tbreak\n",
    "\telse:\n",
    "\t\tprint(num)"
   ]
  },
  {
   "cell_type": "code",
   "execution_count": null,
   "id": "2213c8bd-5a4d-4388-8f66-38ea5e5e88dc",
   "metadata": {},
   "outputs": [],
   "source": [
    "# Ans 13\n",
    "\n"
   ]
  },
  {
   "cell_type": "code",
   "execution_count": null,
   "id": "8df3932b-9529-471d-af6a-86557224d007",
   "metadata": {},
   "outputs": [],
   "source": [
    "# Ans 14\n",
    "\n"
   ]
  },
  {
   "cell_type": "code",
   "execution_count": null,
   "id": "f98dab24-74c9-48d4-b98a-5bdeafd93e94",
   "metadata": {},
   "outputs": [],
   "source": [
    "# Ans 15\n",
    "\n"
   ]
  },
  {
   "cell_type": "code",
   "execution_count": null,
   "id": "4ffaf4af-cfbf-4a5a-89b5-57c890bef571",
   "metadata": {},
   "outputs": [],
   "source": [
    "# Ans 16\n",
    "\n",
    "sum1 = 0\n",
    "for i in range(10):\n",
    "\t\n",
    "\ta = int(input())\n",
    "\tif a >= 0:\n",
    "\t\tsum1 += a\n",
    "\telse:\n",
    "\t\tbreak\n",
    "\n",
    "print(sum1)"
   ]
  },
  {
   "cell_type": "code",
   "execution_count": null,
   "id": "6cec827d-a416-4643-be67-fb3e820a7ce0",
   "metadata": {},
   "outputs": [],
   "source": [
    "# Ans 17\n",
    "\n",
    "for i in range(20):\n",
    "\tif i < 11:\n",
    "\t\tcontinue\n",
    "\telse:\n",
    "\t\tprint(f\"The number is {i}\")\n",
    "\t\t\n",
    "print('End of for loop')\n",
    "print('End of Program')"
   ]
  },
  {
   "cell_type": "code",
   "execution_count": null,
   "id": "197b1431-7e59-44ce-abee-42756150285d",
   "metadata": {},
   "outputs": [],
   "source": [
    "# Ans 18\n",
    "\n",
    "for num in range(1, 20):\n",
    "\tif num <= 10:\n",
    "\t\tcontinue\n",
    "\telse:\n",
    "\t\tprint(\"num:\",num)"
   ]
  },
  {
   "cell_type": "code",
   "execution_count": null,
   "id": "ccb7c854-596d-420e-a7a0-929ed4519e0c",
   "metadata": {},
   "outputs": [],
   "source": [
    "# Ans 19\n",
    "\n",
    "for i in range(int(input())):\n",
    "\tif i%5==0:\n",
    "\t\tcontinue\n",
    "\telse:\n",
    "\t\tprint(i,end=' ')"
   ]
  },
  {
   "cell_type": "code",
   "execution_count": null,
   "id": "e8d0857a-7e7d-446a-81ff-b3951988f1b7",
   "metadata": {},
   "outputs": [],
   "source": [
    "# Ans 20\n",
    "\n",
    "for i in range(int(input())+1):\n",
    "\tif i%7==0:\n",
    "\t\tcontinue\n",
    "\telse:\n",
    "\t\tprint(i,end=' ')"
   ]
  }
 ],
 "metadata": {
  "kernelspec": {
   "display_name": "Python 3 (ipykernel)",
   "language": "python",
   "name": "python3"
  },
  "language_info": {
   "codemirror_mode": {
    "name": "ipython",
    "version": 3
   },
   "file_extension": ".py",
   "mimetype": "text/x-python",
   "name": "python",
   "nbconvert_exporter": "python",
   "pygments_lexer": "ipython3",
   "version": "3.11.1"
  }
 },
 "nbformat": 4,
 "nbformat_minor": 5
}
