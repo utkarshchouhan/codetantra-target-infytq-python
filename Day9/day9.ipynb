{
 "cells": [
  {
   "cell_type": "markdown",
   "id": "9faad123-9aff-47e1-89ca-46ebcb1ecd78",
   "metadata": {},
   "source": [
    "# Exception Handling - Definition, Handling Standard exceptions"
   ]
  },
  {
   "cell_type": "markdown",
   "id": "d177c3ba-1385-4f46-8221-271c134a0d79",
   "metadata": {},
   "source": [
    "### Ans 1\n",
    "\n",
    "Instruction Space is the space required to store the executable version of program.\n",
    "\n",
    "Heap is the segment where dynamic memory allocation usually takes place.\n",
    "\n",
    "Stack is a segment where automatic variables and function call stack is stored.\n",
    "\n",
    "When we are measuring the space complexity analysis of an algorithm, we consider only the Data Space of the algorithm and ignore the Instruction space and Environmental Space. This means we calculate only the memory required to store Variables, Constants, Structures.\n"
   ]
  },
  {
   "cell_type": "markdown",
   "id": "57e29639-3206-4de2-8fd8-5bb19299c9b1",
   "metadata": {},
   "source": [
    "### Ans 2\n",
    "\n"
   ]
  },
  {
   "cell_type": "markdown",
   "id": "634cdaf0-10e8-4f15-922f-516068dd0049",
   "metadata": {
    "jp-MarkdownHeadingCollapsed": true,
    "tags": []
   },
   "source": [
    "### Ans 3\n",
    "\n",
    "The root exception class is the BaseException.\n",
    "\n",
    "SystemExit, KeyboardInterrupt, GeneratorExit and Exception extend from the BaseException.\n",
    "\n",
    "The Rest of the built-in classes are derived from The Exception class."
   ]
  },
  {
   "cell_type": "markdown",
   "id": "9c5ae238-cef7-4e9b-abd5-6022d0998840",
   "metadata": {},
   "source": [
    "# The Except clause with no exception & multiple exception"
   ]
  },
  {
   "cell_type": "markdown",
   "id": "46078570-b920-4f44-aed7-929136a8d868",
   "metadata": {},
   "source": [
    "### Ans 1\n",
    "\n",
    "A try block can have more than one except block, each block handling a type of Exception.\n",
    "\n",
    "Based on the Exception/error that has been generated, the except block that is written to handle that exception is invoked.\n",
    "\n",
    "\n",
    "Finally block is executed in the case of exceptions or no exceptions."
   ]
  },
  {
   "cell_type": "code",
   "execution_count": null,
   "id": "d333554f-f841-41ed-8b46-87d9f4d80b92",
   "metadata": {},
   "outputs": [],
   "source": [
    "# Ans 2\n",
    "\n",
    "try:\n",
    "\tnum1 = int(input(\"num1: \"))\n",
    "\tnum2 = int(input(\"num2: \"))\n",
    "\tprint(num1/num2)\n",
    "except:\n",
    "\tprint(\"exception occurred\")"
   ]
  },
  {
   "cell_type": "code",
   "execution_count": null,
   "id": "6565e9ab-5f8c-4548-b557-787279b0c80f",
   "metadata": {},
   "outputs": [],
   "source": [
    "# Ans 3\n",
    "\n",
    "try:\n",
    "\tnum1 = int(input(\"num1: \"))\n",
    "\tnum2 = int(input(\"num2: \"))\n",
    "\tprint(num1/num2)\n",
    "\n",
    "except:\n",
    "\tprint(\"exception occurred\")"
   ]
  },
  {
   "cell_type": "code",
   "execution_count": null,
   "id": "4ca611fc-569d-4532-aa42-bcfc0a21eb05",
   "metadata": {},
   "outputs": [],
   "source": [
    "# Ans 4\n",
    "\n",
    "try:\n",
    "\ta = int(input(\"a: \"))\n",
    "\tb = int(input(\"b: \"))\n",
    "\t\n",
    "\tc = a+b\n",
    "\td = a/b\n",
    "\te = a*b\n",
    "\tprint(\"try successful\")\n",
    "\n",
    "except ZeroDivisionError:\n",
    "\tprint(\"zero division error occurred\")\n",
    "\t\n",
    "except ArithmeticError:\n",
    "\tprint(\"arithmetic error occurred\")\n",
    "\t\n",
    "except Exception:\n",
    "\tprint(\"exception occurred\")"
   ]
  },
  {
   "cell_type": "markdown",
   "id": "2201b9a7-35f6-4d1a-9371-0b7172a2813d",
   "metadata": {},
   "source": [
    "### Ans 5\n",
    "\n",
    "It is good way of programming to write exception handling for a few lines of code.\n",
    "    \n",
    "An advantage of exception handling is it separates normal code and exception handling code.\n",
    "\n",
    "Exceptions are passed from functions in the stack until they reach a function that knows how to handle them."
   ]
  },
  {
   "cell_type": "code",
   "execution_count": null,
   "id": "8c6225a1-b00e-4417-b0c9-e86da34a84ce",
   "metadata": {},
   "outputs": [],
   "source": [
    "# Ans 6\n",
    "\n",
    "try:\n",
    "\ta = int(input(\"a: \"))\n",
    "\tb = int(input(\"b: \"))\n",
    "\t# take user inputs a and b and perform arithmetic operations\n",
    "\tc = a+b\n",
    "\td = a/b\n",
    "\te = a*b\n",
    "\tif a == 0:\n",
    "\t\tf = fun1(a)\n",
    "\tprint(\"try successful\")\t\n",
    "except ZeroDivisionError:\n",
    "\tprint(\"zero division error occurred\")\n",
    "except NameError:\n",
    "\tprint(\"name error occurred\")\n",
    "except Exception:\n",
    "\tprint(\"exception occurred\")\n",
    "def fun1(n):\n",
    "\tprint(n)"
   ]
  },
  {
   "cell_type": "markdown",
   "id": "e341f352-fa5b-48e4-b01c-1e27f9c861e8",
   "metadata": {},
   "source": [
    "# The Try-Finally clause"
   ]
  },
  {
   "cell_type": "markdown",
   "id": "2fb97732-c0b7-4e54-80b6-384f2604fbfe",
   "metadata": {},
   "source": [
    "### Ans 1\n",
    "Finally block will be executed whatever the outcome that happens in the try block.\n",
    "\n",
    "finally block is written after all the except blocks."
   ]
  },
  {
   "cell_type": "code",
   "execution_count": null,
   "id": "9eb80e6a-0574-45fb-a5be-c8d676e6535c",
   "metadata": {},
   "outputs": [],
   "source": [
    "# Ans 2\n",
    "\n",
    "try:\n",
    "\ta = int(input(\"a: \"))\n",
    "\tb = int(input(\"b: \"))\n",
    "\t\n",
    "\tc = a+b\n",
    "\td = a/b\n",
    "\t\n",
    "\tprint(\"try successful\",c,d)\n",
    "\n",
    "except Exception:\n",
    "\tprint(\"exception occurred\")\n",
    "\t\n",
    "finally:\n",
    "\tprint(\"executed in any condition\")"
   ]
  },
  {
   "cell_type": "code",
   "execution_count": null,
   "id": "24c01d0a-51b2-4249-8169-fc2f7abc3fbb",
   "metadata": {},
   "outputs": [],
   "source": [
    "# Ans 3\n",
    "\n",
    "try:\n",
    "\ta = int(input(\"a: \"))\n",
    "\tb = int(input(\"b: \"))\n",
    "\t\n",
    "\tc = a+b\n",
    "\td = a/b\n",
    "\tprint(\"try successful\")\n",
    "\t\n",
    "except ArithmeticError:\n",
    "\tprint(\"arithmetic error occurred \")\n",
    "except Exception:\n",
    "\tprint(\"exception occurred\")\n",
    "finally:\n",
    "\tprint(\"executed in any condition\")"
   ]
  },
  {
   "cell_type": "markdown",
   "id": "39c0432e-1a2a-4d51-b939-b19e2dcc5261",
   "metadata": {},
   "source": [
    "# Exception - Argument & Raising"
   ]
  },
  {
   "cell_type": "code",
   "execution_count": null,
   "id": "4db7aa45-4da6-41be-a4a8-59c4dc74cf79",
   "metadata": {},
   "outputs": [],
   "source": [
    "# Ans 1\n",
    "\n",
    "def checkage(age):\n",
    "\tif age < 0:\n",
    "\t\traise ValueError(\"age should be greater than or equal to zero\")\n",
    "\tprint(\"age is valid\")\n",
    "\n",
    "try:\n",
    "\tage = int(input(\"age: \"))\n",
    "\tcheckage(age)\n",
    "except ValueError:\n",
    "\tprint(\"('age should be greater than or equal to zero',)\")\n",
    "finally:\n",
    "\tprint(\"executed in any condition\")"
   ]
  },
  {
   "cell_type": "code",
   "execution_count": null,
   "id": "48fd6176-2b93-4028-9ae5-b46d19b7a1b0",
   "metadata": {},
   "outputs": [],
   "source": [
    "# Ans 2\n",
    "\n",
    "try:\n",
    "\tage = int(input(\"age: \"))\n",
    "\tif age < 0:\n",
    "\t\traise ValueError\n",
    "\t\t\n",
    "except ValueError:\n",
    "\tprint(\"age should be greater than or equal to zero\")\n",
    "finally:\n",
    "\tprint(\"i am always executed\")"
   ]
  },
  {
   "cell_type": "code",
   "execution_count": null,
   "id": "a16812fb-aba9-4bbd-a738-6cb44c3e5f60",
   "metadata": {},
   "outputs": [],
   "source": [
    "# Ans 3\n",
    "\n",
    "class Eligible(Exception):\n",
    "   def __init__(self,args):\n",
    "   \t\n",
    "       self.message = args\n",
    "       \n",
    "class NotEligible(Exception):\n",
    "   def __init__(self,args):\n",
    "   \t\n",
    "       ''' Missing code '''\n",
    "       self.message = args\n",
    "try:\n",
    "\t\n",
    "\tage=int(input(\"Age:\"))\n",
    "\tif age > 18:\n",
    "\t\traise Eligible(\"('Eligible to vote',)\")\n",
    "\telif age < 18:\n",
    "\t\traise NotEligible(\"('Not eligible to vote',)\")\n",
    "\telse:\n",
    "\t\tprint(\"All the very best!\")\n",
    "\n",
    "except Eligible as y:\n",
    "\tprint(y.message)\n",
    "\t\n",
    "\n",
    "except NotEligible as n:\n",
    "\tprint(n.message)"
   ]
  }
 ],
 "metadata": {
  "kernelspec": {
   "display_name": "Python 3 (ipykernel)",
   "language": "python",
   "name": "python3"
  },
  "language_info": {
   "codemirror_mode": {
    "name": "ipython",
    "version": 3
   },
   "file_extension": ".py",
   "mimetype": "text/x-python",
   "name": "python",
   "nbconvert_exporter": "python",
   "pygments_lexer": "ipython3",
   "version": "3.11.1"
  }
 },
 "nbformat": 4,
 "nbformat_minor": 5
}
