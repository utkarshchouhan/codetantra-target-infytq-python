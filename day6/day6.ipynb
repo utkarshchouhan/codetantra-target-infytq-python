{
 "cells": [
  {
   "cell_type": "markdown",
   "id": "9faad123-9aff-47e1-89ca-46ebcb1ecd78",
   "metadata": {},
   "source": [
    "# Introduction & Basic Operations on Array"
   ]
  },
  {
   "cell_type": "code",
   "execution_count": 1,
   "id": "7905b019-2c5b-4c5e-8a4c-76ab524ec102",
   "metadata": {},
   "outputs": [
    {
     "name": "stdout",
     "output_type": "stream",
     "text": [
      "first element at index 0 i.e. a[0]: 10\n",
      "second element at index 1 i.e. a[1]: 30\n",
      "third element at index 2 i.e. a[2]: 50\n",
      "fourth element at index 3 i.e. a[3]: 90\n",
      "last element in the array can be accessed as a[-1]: 90\n",
      "Second last element in the array can be accessed as a[-2]: 50\n"
     ]
    }
   ],
   "source": [
    "# Ans 1\n",
    "\n",
    "\n",
    "import array as arr  \n",
    "a = arr.array('i', [10, 30, 50, 90])\n",
    "\n",
    "#Fill the line below to print the element at the 0th index\n",
    "print(\"first element at index 0 i.e. a[0]:\", a[0]    )\n",
    "\n",
    "#Fill the line below to print the second element in the array.\n",
    "print(\"second element at index 1 i.e. a[1]:\",  a[1]  )\n",
    "\n",
    "#Fill the line below to print the third element in the array.\n",
    "print(\"third element at index 2 i.e. a[2]:\",  a[2]  )\n",
    "\n",
    "#Fill the line below to print the fourth element in the array.\n",
    "print(\"fourth element at index 3 i.e. a[3]:\", a[3]   ) \n",
    "\n",
    "#Fill the line below to print the last element in the array.\n",
    "print(\"last element in the array can be accessed as a[-1]:\",  a[-1]  ) \n",
    "\n",
    "#Fill the line below to print the second last element in the array.\n",
    "print(\"Second last element in the array can be accessed as a[-2]:\",  a[-2]  )\n",
    "\n",
    "\n"
   ]
  },
  {
   "cell_type": "markdown",
   "id": "57e29639-3206-4de2-8fd8-5bb19299c9b1",
   "metadata": {},
   "source": [
    "### Ans 2\n",
    "\n",
    "We can store homogenous data in the list data structure but array can only store homogenous data\n",
    "\n",
    "List can store homogenous as well as heterogenous data depending upon the requirement of the problem\n",
    "\n",
    "As arrays are not available inbuilt in python so we import array module explicitly but for list their is no need to import any explicit module,"
   ]
  },
  {
   "cell_type": "code",
   "execution_count": 3,
   "id": "f1468fad-033c-4830-8190-3f003627d914",
   "metadata": {
    "jp-MarkdownHeadingCollapsed": true,
    "tags": []
   },
   "outputs": [
    {
     "name": "stdout",
     "output_type": "stream",
     "text": [
      "array('d', [0.5, 2.3, 3.4, 5.5, 7.6, 10.8])\n",
      "array('d', [0.5, 2.3, 4.9, 6.9, 8.9, 10.8])\n"
     ]
    }
   ],
   "source": [
    "# Ans 3\n",
    "\n",
    "import array as arr\n",
    "values = arr.array('d', [0.5,2.3,3.4,5.5,7.6,10.8])\n",
    "print(values)\n",
    "values[2:5] = arr.array('d',[4.9,6.9,8.9])\n",
    "print(values)"
   ]
  },
  {
   "cell_type": "code",
   "execution_count": 4,
   "id": "27a32c15-83ba-4628-8fa9-ca240eb7102a",
   "metadata": {},
   "outputs": [
    {
     "name": "stdout",
     "output_type": "stream",
     "text": [
      "Size of array values is:  6\n",
      "array('d', [1.2, 2.3, 3.4, 5.5, 7.6, 10.8])\n",
      "array('d', [1.2, 2.3, 5.5, 7.6, 10.8])\n",
      "array('d', [1.2, 2.3, 10.8])\n"
     ]
    }
   ],
   "source": [
    "# Ans 4\n",
    "\n",
    "import array as arr\n",
    "values = arr.array('d',[1.2,2.3,3.4,5.5,7.6,10.8])\n",
    "print(\"Size of array values is: \",len(values))\n",
    "print(values)\n",
    "del values[2]\n",
    "print(values)\n",
    "del values[2:4]\n",
    "print(values)"
   ]
  },
  {
   "cell_type": "code",
   "execution_count": 5,
   "id": "2c07fa35-88aa-4a23-99ba-35e4bd142c38",
   "metadata": {},
   "outputs": [
    {
     "name": "stdout",
     "output_type": "stream",
     "text": [
      "array('d', [1.2, 2.3, 3.4, 5.5, 7.6, 10.8])\n",
      "array('d', [11.2, 12.3, 13.4, 15.5, 17.6])\n",
      "array('d')\n",
      "array('d', [1.2, 2.3, 3.4, 5.5, 7.6, 10.8, 11.2, 12.3, 13.4, 15.5, 17.6])\n"
     ]
    }
   ],
   "source": [
    "# Ans 5\n",
    "\n",
    "import array as arr\n",
    "values1 = arr.array('d',[1.2,2.3,3.4,5.5,7.6,10.8])\n",
    "values2 = arr.array('d',[11.2,12.3,13.4,15.5,17.6])\n",
    "print(values1)\n",
    "print(values2)\n",
    "\n",
    "values3 = arr.array('d',)\n",
    "print(values3)\n",
    "values3 = values1 + values2\n",
    "\n",
    "print(values3)"
   ]
  },
  {
   "cell_type": "markdown",
   "id": "9c5ae238-cef7-4e9b-abd5-6022d0998840",
   "metadata": {},
   "source": [
    "# Discussion on 2-D Array, Basic Matrix operations, 2-D array using pointer"
   ]
  },
  {
   "cell_type": "code",
   "execution_count": 8,
   "id": "1fc387ee-3f2a-43c3-a126-f0c31bd65035",
   "metadata": {},
   "outputs": [
    {
     "name": "stdout",
     "output_type": "stream",
     "text": [
      "Display elements before performing insertion in 2-D array : \n",
      "[[11, 21, 31, 41], [81, 91, 101, 121]]\n",
      "Display elements after performing insertion in 2-D array :\n",
      "11 21 31 41 \n",
      "5 6 7 8 \n",
      "81 91 101 121 \n"
     ]
    }
   ],
   "source": [
    "# Ans 1\n",
    "\n",
    "from array import *\n",
    "arr = [[11,21,31,41],[81,91,101,121]]\n",
    "print(\"Display elements before performing insertion in 2-D array : \")\n",
    "print(arr)\n",
    "\n",
    "arr.insert(1,[5,6,7,8])\n",
    "print(\"Display elements after performing insertion in 2-D array :\")\n",
    "for i in arr:\n",
    "\tfor j in i:\n",
    "\t\tprint(j,end = ' ')\n",
    "\tprint()"
   ]
  },
  {
   "cell_type": "code",
   "execution_count": 9,
   "id": "d333554f-f841-41ed-8b46-87d9f4d80b92",
   "metadata": {},
   "outputs": [
    {
     "name": "stdout",
     "output_type": "stream",
     "text": [
      "Array before modification\n",
      "10 20 30 \n",
      "40 50 60 \n",
      "70 80 90 \n",
      "Array after modification\n",
      "10 20 30 \n",
      "40 50 120 60 \n",
      "70 80 90 \n"
     ]
    }
   ],
   "source": [
    "# Ans 2\n",
    "\n",
    "from array import *\n",
    "arr = [[10,20,30],[40,50,60],[70,80,90]]\n",
    "print(\"Array before modification\")\n",
    "for _ in arr:\n",
    "\tfor i in _:\n",
    "\t\tprint(i,end=' ')\n",
    "\tprint()\n",
    "\t\n",
    "arr[1].insert(2,120)\n",
    "\n",
    "print(\"Array after modification\")\n",
    "for _ in arr:\n",
    "\tfor i in _:\n",
    "\t\tprint(i,end=' ')\n",
    "\tprint()"
   ]
  },
  {
   "cell_type": "code",
   "execution_count": 10,
   "id": "6565e9ab-5f8c-4548-b557-787279b0c80f",
   "metadata": {},
   "outputs": [
    {
     "name": "stdout",
     "output_type": "stream",
     "text": [
      "Display elements before performing deletion's in 2-D array : \n",
      "[[11, 21, 31, 41], [81, 91, 101, 121]]\n",
      "Display elements after performing deletion's in 2-D array :\n",
      "11 21 41 \n"
     ]
    }
   ],
   "source": [
    "# Ans 3\n",
    "\n",
    "from array import *\n",
    "arr = [[11,21,31,41],[81,91,101,121]]\n",
    "print(\"Display elements before performing deletion's in 2-D array : \")\n",
    "print(arr)\n",
    "del(arr[0][2])\n",
    "del(arr[1])\n",
    "print(\"Display elements after performing deletion's in 2-D array :\")\n",
    "for i in arr:\n",
    "\tfor j in i:\n",
    "\t\tprint(j,end = ' ')\n",
    "\tprint()"
   ]
  }
 ],
 "metadata": {
  "kernelspec": {
   "display_name": "Python 3 (ipykernel)",
   "language": "python",
   "name": "python3"
  },
  "language_info": {
   "codemirror_mode": {
    "name": "ipython",
    "version": 3
   },
   "file_extension": ".py",
   "mimetype": "text/x-python",
   "name": "python",
   "nbconvert_exporter": "python",
   "pygments_lexer": "ipython3",
   "version": "3.11.1"
  }
 },
 "nbformat": 4,
 "nbformat_minor": 5
}
